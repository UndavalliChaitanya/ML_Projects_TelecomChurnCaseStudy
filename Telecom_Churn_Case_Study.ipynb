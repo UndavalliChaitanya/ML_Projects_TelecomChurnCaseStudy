{
 "cells": [
  {
   "cell_type": "markdown",
   "metadata": {},
   "source": [
    "# Telecom Churn Case Study"
   ]
  },
  {
   "cell_type": "markdown",
   "metadata": {},
   "source": [
    "### Problem Statement:\n",
    "* In the telecom industry, customers are able to choose from multiple service providers and actively switch from one operator to another. In this highly competitive market, the telecommunications industry experiences an average of 15-25% annual churn rate. Given the fact that it costs 5-10 times more to acquire a new customer than to retain an existing one, customer retention has now become even more important than customer acquisition.\n",
    "\n",
    "* To reduce customer churn, telecom companies need to predict which customers are at high risk of churn."
   ]
  },
  {
   "cell_type": "markdown",
   "metadata": {},
   "source": [
    "### Steps followed through out the case study:\n",
    "* Importing necessary libraries\n",
    "* Inspecting the Dataframe and deriving features\n",
    "* Filtering high-value customers in the good phase basing on average recharge amount\n",
    "* Tagging churners basing on below attributes and removing attributes of the churn phase\n",
    "* Preprocessing Data\n",
    "* Exploratory Data Analysis\n",
    "* Predicting the churn using Principal Component Analysis\n",
    "* Model Building\n",
    "* Logistic Regression\n",
    "* Decision Trees and hyper-parameter tuning\n",
    "* Random Forests and hyper-parameter tuning\n",
    "* Summary"
   ]
  },
  {
   "cell_type": "markdown",
   "metadata": {},
   "source": [
    "### Importing necessary libraries"
   ]
  },
  {
   "cell_type": "code",
   "execution_count": 1,
   "metadata": {},
   "outputs": [],
   "source": [
    "# importing necessary libraries\n",
    "import pandas as pd, numpy as np\n",
    "\n",
    "#importing below libraries to visualize data\n",
    "import matplotlib.pyplot as plt \n",
    "import seaborn as sns\n",
    "\n",
    "#to split data into train data and test data\n",
    "from sklearn.model_selection import train_test_split\n",
    "\n",
    "#to rescale features\n",
    "from sklearn import preprocessing\n",
    "from sklearn.preprocessing import StandardScaler\n",
    "\n",
    "#Importing RFE and LinearRegression\n",
    "from sklearn.feature_selection import RFE\n",
    "from sklearn.linear_model import LinearRegression\n",
    "\n",
    "from sklearn.model_selection import KFold\n",
    "from sklearn.model_selection import GridSearchCV\n",
    "\n",
    "# Importing decision tree classifier from sklearn library\n",
    "from sklearn.tree import DecisionTreeClassifier\n",
    "from sklearn import tree\n",
    "\n",
    "\n",
    "from sklearn.ensemble import RandomForestClassifier\n",
    "from sklearn import metrics\n",
    "\n",
    "# The evaluation metrics of our default model\n",
    "from sklearn.metrics import classification_report, confusion_matrix, accuracy_score\n",
    "\n",
    "# To suppress Warnings\n",
    "import warnings\n",
    "warnings.filterwarnings('ignore')"
   ]
  },
  {
   "cell_type": "code",
   "execution_count": 2,
   "metadata": {},
   "outputs": [
    {
     "data": {
      "text/html": [
       "<div>\n",
       "<style scoped>\n",
       "    .dataframe tbody tr th:only-of-type {\n",
       "        vertical-align: middle;\n",
       "    }\n",
       "\n",
       "    .dataframe tbody tr th {\n",
       "        vertical-align: top;\n",
       "    }\n",
       "\n",
       "    .dataframe thead th {\n",
       "        text-align: right;\n",
       "    }\n",
       "</style>\n",
       "<table border=\"1\" class=\"dataframe\">\n",
       "  <thead>\n",
       "    <tr style=\"text-align: right;\">\n",
       "      <th></th>\n",
       "      <th>mobile_number</th>\n",
       "      <th>circle_id</th>\n",
       "      <th>loc_og_t2o_mou</th>\n",
       "      <th>std_og_t2o_mou</th>\n",
       "      <th>loc_ic_t2o_mou</th>\n",
       "      <th>last_date_of_month_6</th>\n",
       "      <th>last_date_of_month_7</th>\n",
       "      <th>last_date_of_month_8</th>\n",
       "      <th>last_date_of_month_9</th>\n",
       "      <th>arpu_6</th>\n",
       "      <th>...</th>\n",
       "      <th>sachet_3g_9</th>\n",
       "      <th>fb_user_6</th>\n",
       "      <th>fb_user_7</th>\n",
       "      <th>fb_user_8</th>\n",
       "      <th>fb_user_9</th>\n",
       "      <th>aon</th>\n",
       "      <th>aug_vbc_3g</th>\n",
       "      <th>jul_vbc_3g</th>\n",
       "      <th>jun_vbc_3g</th>\n",
       "      <th>sep_vbc_3g</th>\n",
       "    </tr>\n",
       "  </thead>\n",
       "  <tbody>\n",
       "    <tr>\n",
       "      <th>0</th>\n",
       "      <td>7000842753</td>\n",
       "      <td>109</td>\n",
       "      <td>0.0</td>\n",
       "      <td>0.0</td>\n",
       "      <td>0.0</td>\n",
       "      <td>6/30/2014</td>\n",
       "      <td>7/31/2014</td>\n",
       "      <td>8/31/2014</td>\n",
       "      <td>9/30/2014</td>\n",
       "      <td>197.385</td>\n",
       "      <td>...</td>\n",
       "      <td>0</td>\n",
       "      <td>1.0</td>\n",
       "      <td>1.0</td>\n",
       "      <td>1.0</td>\n",
       "      <td>NaN</td>\n",
       "      <td>968</td>\n",
       "      <td>30.4</td>\n",
       "      <td>0.0</td>\n",
       "      <td>101.20</td>\n",
       "      <td>3.58</td>\n",
       "    </tr>\n",
       "    <tr>\n",
       "      <th>1</th>\n",
       "      <td>7001865778</td>\n",
       "      <td>109</td>\n",
       "      <td>0.0</td>\n",
       "      <td>0.0</td>\n",
       "      <td>0.0</td>\n",
       "      <td>6/30/2014</td>\n",
       "      <td>7/31/2014</td>\n",
       "      <td>8/31/2014</td>\n",
       "      <td>9/30/2014</td>\n",
       "      <td>34.047</td>\n",
       "      <td>...</td>\n",
       "      <td>0</td>\n",
       "      <td>NaN</td>\n",
       "      <td>1.0</td>\n",
       "      <td>1.0</td>\n",
       "      <td>NaN</td>\n",
       "      <td>1006</td>\n",
       "      <td>0.0</td>\n",
       "      <td>0.0</td>\n",
       "      <td>0.00</td>\n",
       "      <td>0.00</td>\n",
       "    </tr>\n",
       "    <tr>\n",
       "      <th>2</th>\n",
       "      <td>7001625959</td>\n",
       "      <td>109</td>\n",
       "      <td>0.0</td>\n",
       "      <td>0.0</td>\n",
       "      <td>0.0</td>\n",
       "      <td>6/30/2014</td>\n",
       "      <td>7/31/2014</td>\n",
       "      <td>8/31/2014</td>\n",
       "      <td>9/30/2014</td>\n",
       "      <td>167.690</td>\n",
       "      <td>...</td>\n",
       "      <td>0</td>\n",
       "      <td>NaN</td>\n",
       "      <td>NaN</td>\n",
       "      <td>NaN</td>\n",
       "      <td>1.0</td>\n",
       "      <td>1103</td>\n",
       "      <td>0.0</td>\n",
       "      <td>0.0</td>\n",
       "      <td>4.17</td>\n",
       "      <td>0.00</td>\n",
       "    </tr>\n",
       "    <tr>\n",
       "      <th>3</th>\n",
       "      <td>7001204172</td>\n",
       "      <td>109</td>\n",
       "      <td>0.0</td>\n",
       "      <td>0.0</td>\n",
       "      <td>0.0</td>\n",
       "      <td>6/30/2014</td>\n",
       "      <td>7/31/2014</td>\n",
       "      <td>8/31/2014</td>\n",
       "      <td>9/30/2014</td>\n",
       "      <td>221.338</td>\n",
       "      <td>...</td>\n",
       "      <td>0</td>\n",
       "      <td>NaN</td>\n",
       "      <td>NaN</td>\n",
       "      <td>NaN</td>\n",
       "      <td>NaN</td>\n",
       "      <td>2491</td>\n",
       "      <td>0.0</td>\n",
       "      <td>0.0</td>\n",
       "      <td>0.00</td>\n",
       "      <td>0.00</td>\n",
       "    </tr>\n",
       "    <tr>\n",
       "      <th>4</th>\n",
       "      <td>7000142493</td>\n",
       "      <td>109</td>\n",
       "      <td>0.0</td>\n",
       "      <td>0.0</td>\n",
       "      <td>0.0</td>\n",
       "      <td>6/30/2014</td>\n",
       "      <td>7/31/2014</td>\n",
       "      <td>8/31/2014</td>\n",
       "      <td>9/30/2014</td>\n",
       "      <td>261.636</td>\n",
       "      <td>...</td>\n",
       "      <td>0</td>\n",
       "      <td>0.0</td>\n",
       "      <td>NaN</td>\n",
       "      <td>NaN</td>\n",
       "      <td>NaN</td>\n",
       "      <td>1526</td>\n",
       "      <td>0.0</td>\n",
       "      <td>0.0</td>\n",
       "      <td>0.00</td>\n",
       "      <td>0.00</td>\n",
       "    </tr>\n",
       "  </tbody>\n",
       "</table>\n",
       "<p>5 rows × 226 columns</p>\n",
       "</div>"
      ],
      "text/plain": [
       "   mobile_number  circle_id  loc_og_t2o_mou  std_og_t2o_mou  loc_ic_t2o_mou  \\\n",
       "0     7000842753        109             0.0             0.0             0.0   \n",
       "1     7001865778        109             0.0             0.0             0.0   \n",
       "2     7001625959        109             0.0             0.0             0.0   \n",
       "3     7001204172        109             0.0             0.0             0.0   \n",
       "4     7000142493        109             0.0             0.0             0.0   \n",
       "\n",
       "  last_date_of_month_6 last_date_of_month_7 last_date_of_month_8  \\\n",
       "0            6/30/2014            7/31/2014            8/31/2014   \n",
       "1            6/30/2014            7/31/2014            8/31/2014   \n",
       "2            6/30/2014            7/31/2014            8/31/2014   \n",
       "3            6/30/2014            7/31/2014            8/31/2014   \n",
       "4            6/30/2014            7/31/2014            8/31/2014   \n",
       "\n",
       "  last_date_of_month_9   arpu_6  ...  sachet_3g_9  fb_user_6  fb_user_7  \\\n",
       "0            9/30/2014  197.385  ...            0        1.0        1.0   \n",
       "1            9/30/2014   34.047  ...            0        NaN        1.0   \n",
       "2            9/30/2014  167.690  ...            0        NaN        NaN   \n",
       "3            9/30/2014  221.338  ...            0        NaN        NaN   \n",
       "4            9/30/2014  261.636  ...            0        0.0        NaN   \n",
       "\n",
       "   fb_user_8  fb_user_9   aon  aug_vbc_3g  jul_vbc_3g  jun_vbc_3g  sep_vbc_3g  \n",
       "0        1.0        NaN   968        30.4         0.0      101.20        3.58  \n",
       "1        1.0        NaN  1006         0.0         0.0        0.00        0.00  \n",
       "2        NaN        1.0  1103         0.0         0.0        4.17        0.00  \n",
       "3        NaN        NaN  2491         0.0         0.0        0.00        0.00  \n",
       "4        NaN        NaN  1526         0.0         0.0        0.00        0.00  \n",
       "\n",
       "[5 rows x 226 columns]"
      ]
     },
     "execution_count": 2,
     "metadata": {},
     "output_type": "execute_result"
    }
   ],
   "source": [
    "# Importing dataset\n",
    "telecom_churn_data = pd.read_csv(\"telecom_churn_data.csv\")\n",
    "df = telecom_churn_data\n",
    "df.head()"
   ]
  },
  {
   "cell_type": "markdown",
   "metadata": {},
   "source": [
    "## Understanding the Data Dictionary\n",
    "`Please find details for all variables here `\n",
    "[Data Dictionary](https://cdn.upgrad.com/UpGrad/temp/a625d1ee-b8d7-4edb-bdde-b1d82beaf5b4/Data+Dictionary-+Telecom+Churn+Case+Study.xlsx)"
   ]
  },
  {
   "cell_type": "markdown",
   "metadata": {},
   "source": [
    "### Inspecting the Dataframe and deriving features"
   ]
  },
  {
   "cell_type": "code",
   "execution_count": 3,
   "metadata": {},
   "outputs": [
    {
     "data": {
      "text/plain": [
       "(99999, 226)"
      ]
     },
     "execution_count": 3,
     "metadata": {},
     "output_type": "execute_result"
    }
   ],
   "source": [
    "# Let's check the dimensions of the dataframe\n",
    "df.shape"
   ]
  },
  {
   "cell_type": "code",
   "execution_count": 4,
   "metadata": {},
   "outputs": [
    {
     "name": "stdout",
     "output_type": "stream",
     "text": [
      "Index(['total_rech_amt_6', 'total_rech_amt_7', 'total_rech_amt_8',\n",
      "       'total_rech_amt_9', 'max_rech_amt_6', 'max_rech_amt_7',\n",
      "       'max_rech_amt_8', 'max_rech_amt_9', 'date_of_last_rech_data_6',\n",
      "       'date_of_last_rech_data_7', 'date_of_last_rech_data_8',\n",
      "       'date_of_last_rech_data_9', 'total_rech_data_6', 'total_rech_data_7',\n",
      "       'total_rech_data_8', 'total_rech_data_9', 'max_rech_data_6',\n",
      "       'max_rech_data_7', 'max_rech_data_8', 'max_rech_data_9',\n",
      "       'av_rech_amt_data_6', 'av_rech_amt_data_7', 'av_rech_amt_data_8',\n",
      "       'av_rech_amt_data_9'],\n",
      "      dtype='object')\n"
     ]
    }
   ],
   "source": [
    "# Fetching columns with recharge information\n",
    "recharge_columns =  df.columns[df.columns.str.contains('rech_amt|rech_data')]\n",
    "print(recharge_columns)"
   ]
  },
  {
   "cell_type": "code",
   "execution_count": 5,
   "metadata": {},
   "outputs": [
    {
     "data": {
      "text/html": [
       "<div>\n",
       "<style scoped>\n",
       "    .dataframe tbody tr th:only-of-type {\n",
       "        vertical-align: middle;\n",
       "    }\n",
       "\n",
       "    .dataframe tbody tr th {\n",
       "        vertical-align: top;\n",
       "    }\n",
       "\n",
       "    .dataframe thead th {\n",
       "        text-align: right;\n",
       "    }\n",
       "</style>\n",
       "<table border=\"1\" class=\"dataframe\">\n",
       "  <thead>\n",
       "    <tr style=\"text-align: right;\">\n",
       "      <th></th>\n",
       "      <th>Missing Ratio</th>\n",
       "    </tr>\n",
       "  </thead>\n",
       "  <tbody>\n",
       "    <tr>\n",
       "      <th>av_rech_amt_data_6</th>\n",
       "      <td>74.846748</td>\n",
       "    </tr>\n",
       "    <tr>\n",
       "      <th>max_rech_data_6</th>\n",
       "      <td>74.846748</td>\n",
       "    </tr>\n",
       "    <tr>\n",
       "      <th>total_rech_data_6</th>\n",
       "      <td>74.846748</td>\n",
       "    </tr>\n",
       "    <tr>\n",
       "      <th>date_of_last_rech_data_6</th>\n",
       "      <td>74.846748</td>\n",
       "    </tr>\n",
       "    <tr>\n",
       "      <th>av_rech_amt_data_7</th>\n",
       "      <td>74.428744</td>\n",
       "    </tr>\n",
       "    <tr>\n",
       "      <th>max_rech_data_7</th>\n",
       "      <td>74.428744</td>\n",
       "    </tr>\n",
       "    <tr>\n",
       "      <th>total_rech_data_7</th>\n",
       "      <td>74.428744</td>\n",
       "    </tr>\n",
       "    <tr>\n",
       "      <th>date_of_last_rech_data_7</th>\n",
       "      <td>74.428744</td>\n",
       "    </tr>\n",
       "    <tr>\n",
       "      <th>av_rech_amt_data_9</th>\n",
       "      <td>74.077741</td>\n",
       "    </tr>\n",
       "    <tr>\n",
       "      <th>max_rech_data_9</th>\n",
       "      <td>74.077741</td>\n",
       "    </tr>\n",
       "    <tr>\n",
       "      <th>total_rech_data_9</th>\n",
       "      <td>74.077741</td>\n",
       "    </tr>\n",
       "    <tr>\n",
       "      <th>date_of_last_rech_data_9</th>\n",
       "      <td>74.077741</td>\n",
       "    </tr>\n",
       "    <tr>\n",
       "      <th>av_rech_amt_data_8</th>\n",
       "      <td>73.660737</td>\n",
       "    </tr>\n",
       "    <tr>\n",
       "      <th>max_rech_data_8</th>\n",
       "      <td>73.660737</td>\n",
       "    </tr>\n",
       "    <tr>\n",
       "      <th>total_rech_data_8</th>\n",
       "      <td>73.660737</td>\n",
       "    </tr>\n",
       "    <tr>\n",
       "      <th>date_of_last_rech_data_8</th>\n",
       "      <td>73.660737</td>\n",
       "    </tr>\n",
       "  </tbody>\n",
       "</table>\n",
       "</div>"
      ],
      "text/plain": [
       "                          Missing Ratio\n",
       "av_rech_amt_data_6            74.846748\n",
       "max_rech_data_6               74.846748\n",
       "total_rech_data_6             74.846748\n",
       "date_of_last_rech_data_6      74.846748\n",
       "av_rech_amt_data_7            74.428744\n",
       "max_rech_data_7               74.428744\n",
       "total_rech_data_7             74.428744\n",
       "date_of_last_rech_data_7      74.428744\n",
       "av_rech_amt_data_9            74.077741\n",
       "max_rech_data_9               74.077741\n",
       "total_rech_data_9             74.077741\n",
       "date_of_last_rech_data_9      74.077741\n",
       "av_rech_amt_data_8            73.660737\n",
       "max_rech_data_8               73.660737\n",
       "total_rech_data_8             73.660737\n",
       "date_of_last_rech_data_8      73.660737"
      ]
     },
     "execution_count": 5,
     "metadata": {},
     "output_type": "execute_result"
    }
   ],
   "source": [
    "# Fetching recharge information columns with null values and the missing percentage\n",
    "df_na = (df.loc[:,recharge_columns].isnull().sum() / len(df)) * 100\n",
    "df_na = df_na.drop(df_na[df_na == 0].index).sort_values(ascending=False)\n",
    "missing_data = pd.DataFrame({'Missing Ratio' :df_na})\n",
    "missing_data"
   ]
  },
  {
   "cell_type": "code",
   "execution_count": 6,
   "metadata": {},
   "outputs": [],
   "source": [
    "# About 74 % of total_rech_data_6, total_rech_data_7, total_rech_data_8, total_rech_data_9, av_rech_amt_data_6, av_rech_amt_data_7, av_rech_amt_data_8, av_rech_amt_data_9 are null values\n",
    "# replacing null values with Zero\n",
    "df['total_rech_data_6'] = df['total_rech_data_6'].replace(np.NaN,0.0)\n",
    "df['total_rech_data_7'] = df['total_rech_data_7'].replace(np.NaN,0.0)\n",
    "df['total_rech_data_8'] = df['total_rech_data_8'].replace(np.NaN,0.0)\n",
    "df['total_rech_data_9'] = df['total_rech_data_9'].replace(np.NaN,0.0)\n",
    "\n",
    "df['av_rech_amt_data_6'] = df['av_rech_amt_data_6'].replace(np.NaN,0.0)\n",
    "df['av_rech_amt_data_7'] = df['av_rech_amt_data_7'].replace(np.NaN,0.0)\n",
    "df['av_rech_amt_data_8'] = df['av_rech_amt_data_8'].replace(np.NaN,0.0)\n",
    "df['av_rech_amt_data_9'] = df['av_rech_amt_data_9'].replace(np.NaN,0.0)"
   ]
  },
  {
   "cell_type": "markdown",
   "metadata": {},
   "source": [
    "#### Deriving a new column total recharge amount for 6,7, 8 and 9 to get more insights"
   ]
  },
  {
   "cell_type": "code",
   "execution_count": 7,
   "metadata": {},
   "outputs": [],
   "source": [
    "df['total_rech_amt_data_6'] = df.av_rech_amt_data_6 * df.total_rech_data_6\n",
    "df['total_rech_amt_data_7'] = df.av_rech_amt_data_7 * df.total_rech_data_7\n",
    "df['total_rech_amt_data_8'] = df.av_rech_amt_data_8 * df.total_rech_data_8\n",
    "df['total_rech_amt_data_9'] = df.av_rech_amt_data_9 * df.total_rech_data_9"
   ]
  },
  {
   "cell_type": "code",
   "execution_count": 8,
   "metadata": {},
   "outputs": [],
   "source": [
    "# Dropping all av_rech_amt_data_X and total_rech_data_X related columns \n",
    "df.drop(['total_rech_data_6','total_rech_data_7','total_rech_data_8','total_rech_data_9',\n",
    "'av_rech_amt_data_6','av_rech_amt_data_7','av_rech_amt_data_8','av_rech_amt_data_9'],axis = 1,inplace = True)"
   ]
  },
  {
   "cell_type": "markdown",
   "metadata": {},
   "source": [
    "### Filtering high-value customers in the good phase basing on average recharge amount\n",
    "#### Define high-value customers as follows:\n",
    "- Those who have recharged with an amount more than or equal to X, where X is the 70th percentile of the average recharge amount in the first two months "
   ]
  },
  {
   "cell_type": "code",
   "execution_count": 9,
   "metadata": {},
   "outputs": [],
   "source": [
    "# Calculating average recharge amount in good phase\n",
    "df['av_rech_amt_6_7'] = (df.total_rech_amt_6 + df.total_rech_amt_data_6 \\\n",
    "                                               + df.total_rech_amt_7+ df.total_rech_amt_data_7)/2"
   ]
  },
  {
   "cell_type": "code",
   "execution_count": 10,
   "metadata": {},
   "outputs": [],
   "source": [
    "#Calculating the 70th percentile\n",
    "high_value_filter_6_7 = np.percentile(df.av_rech_amt_6_7, 70.0)"
   ]
  },
  {
   "cell_type": "code",
   "execution_count": 11,
   "metadata": {},
   "outputs": [
    {
     "data": {
      "text/plain": [
       "(29953, 223)"
      ]
     },
     "execution_count": 11,
     "metadata": {},
     "output_type": "execute_result"
    }
   ],
   "source": [
    "#Filtering the high value customers basing on the 70th percentile as per problem statement\n",
    "telecom_HighValue_Cust = df[df.av_rech_amt_6_7 > high_value_filter_6_7]\n",
    "telecom_HighValue_Cust.shape"
   ]
  },
  {
   "cell_type": "markdown",
   "metadata": {},
   "source": [
    "### Tagging churners basing on below attributes and removing attributes of the churn phase:\n",
    "- total_ic_mou_9\n",
    "- total_og_mou_9\n",
    "- vol_2g_mb_9\n",
    "- vol_3g_mb_9"
   ]
  },
  {
   "cell_type": "code",
   "execution_count": 12,
   "metadata": {},
   "outputs": [
    {
     "data": {
      "text/html": [
       "<div>\n",
       "<style scoped>\n",
       "    .dataframe tbody tr th:only-of-type {\n",
       "        vertical-align: middle;\n",
       "    }\n",
       "\n",
       "    .dataframe tbody tr th {\n",
       "        vertical-align: top;\n",
       "    }\n",
       "\n",
       "    .dataframe thead th {\n",
       "        text-align: right;\n",
       "    }\n",
       "</style>\n",
       "<table border=\"1\" class=\"dataframe\">\n",
       "  <thead>\n",
       "    <tr style=\"text-align: right;\">\n",
       "      <th></th>\n",
       "      <th>mobile_number</th>\n",
       "      <th>circle_id</th>\n",
       "      <th>loc_og_t2o_mou</th>\n",
       "      <th>std_og_t2o_mou</th>\n",
       "      <th>loc_ic_t2o_mou</th>\n",
       "      <th>last_date_of_month_6</th>\n",
       "      <th>last_date_of_month_7</th>\n",
       "      <th>last_date_of_month_8</th>\n",
       "      <th>last_date_of_month_9</th>\n",
       "      <th>arpu_6</th>\n",
       "      <th>...</th>\n",
       "      <th>aug_vbc_3g</th>\n",
       "      <th>jul_vbc_3g</th>\n",
       "      <th>jun_vbc_3g</th>\n",
       "      <th>sep_vbc_3g</th>\n",
       "      <th>total_rech_amt_data_6</th>\n",
       "      <th>total_rech_amt_data_7</th>\n",
       "      <th>total_rech_amt_data_8</th>\n",
       "      <th>total_rech_amt_data_9</th>\n",
       "      <th>av_rech_amt_6_7</th>\n",
       "      <th>churn</th>\n",
       "    </tr>\n",
       "  </thead>\n",
       "  <tbody>\n",
       "    <tr>\n",
       "      <th>0</th>\n",
       "      <td>7000842753</td>\n",
       "      <td>109</td>\n",
       "      <td>0.0</td>\n",
       "      <td>0.0</td>\n",
       "      <td>0.0</td>\n",
       "      <td>6/30/2014</td>\n",
       "      <td>7/31/2014</td>\n",
       "      <td>8/31/2014</td>\n",
       "      <td>9/30/2014</td>\n",
       "      <td>197.385</td>\n",
       "      <td>...</td>\n",
       "      <td>30.40</td>\n",
       "      <td>0.00</td>\n",
       "      <td>101.20</td>\n",
       "      <td>3.58</td>\n",
       "      <td>252.0</td>\n",
       "      <td>252.0</td>\n",
       "      <td>252.0</td>\n",
       "      <td>0.0</td>\n",
       "      <td>559.0</td>\n",
       "      <td>1</td>\n",
       "    </tr>\n",
       "    <tr>\n",
       "      <th>7</th>\n",
       "      <td>7000701601</td>\n",
       "      <td>109</td>\n",
       "      <td>0.0</td>\n",
       "      <td>0.0</td>\n",
       "      <td>0.0</td>\n",
       "      <td>6/30/2014</td>\n",
       "      <td>7/31/2014</td>\n",
       "      <td>8/31/2014</td>\n",
       "      <td>9/30/2014</td>\n",
       "      <td>1069.180</td>\n",
       "      <td>...</td>\n",
       "      <td>57.74</td>\n",
       "      <td>19.38</td>\n",
       "      <td>18.74</td>\n",
       "      <td>0.00</td>\n",
       "      <td>0.0</td>\n",
       "      <td>0.0</td>\n",
       "      <td>0.0</td>\n",
       "      <td>0.0</td>\n",
       "      <td>1185.0</td>\n",
       "      <td>1</td>\n",
       "    </tr>\n",
       "    <tr>\n",
       "      <th>8</th>\n",
       "      <td>7001524846</td>\n",
       "      <td>109</td>\n",
       "      <td>0.0</td>\n",
       "      <td>0.0</td>\n",
       "      <td>0.0</td>\n",
       "      <td>6/30/2014</td>\n",
       "      <td>7/31/2014</td>\n",
       "      <td>8/31/2014</td>\n",
       "      <td>9/30/2014</td>\n",
       "      <td>378.721</td>\n",
       "      <td>...</td>\n",
       "      <td>21.03</td>\n",
       "      <td>910.65</td>\n",
       "      <td>122.16</td>\n",
       "      <td>0.00</td>\n",
       "      <td>0.0</td>\n",
       "      <td>354.0</td>\n",
       "      <td>207.0</td>\n",
       "      <td>0.0</td>\n",
       "      <td>696.0</td>\n",
       "      <td>0</td>\n",
       "    </tr>\n",
       "    <tr>\n",
       "      <th>21</th>\n",
       "      <td>7002124215</td>\n",
       "      <td>109</td>\n",
       "      <td>0.0</td>\n",
       "      <td>0.0</td>\n",
       "      <td>0.0</td>\n",
       "      <td>6/30/2014</td>\n",
       "      <td>7/31/2014</td>\n",
       "      <td>8/31/2014</td>\n",
       "      <td>9/30/2014</td>\n",
       "      <td>514.453</td>\n",
       "      <td>...</td>\n",
       "      <td>0.00</td>\n",
       "      <td>0.00</td>\n",
       "      <td>0.00</td>\n",
       "      <td>0.00</td>\n",
       "      <td>0.0</td>\n",
       "      <td>0.0</td>\n",
       "      <td>0.0</td>\n",
       "      <td>0.0</td>\n",
       "      <td>640.0</td>\n",
       "      <td>0</td>\n",
       "    </tr>\n",
       "    <tr>\n",
       "      <th>23</th>\n",
       "      <td>7000887461</td>\n",
       "      <td>109</td>\n",
       "      <td>0.0</td>\n",
       "      <td>0.0</td>\n",
       "      <td>0.0</td>\n",
       "      <td>6/30/2014</td>\n",
       "      <td>7/31/2014</td>\n",
       "      <td>8/31/2014</td>\n",
       "      <td>9/30/2014</td>\n",
       "      <td>74.350</td>\n",
       "      <td>...</td>\n",
       "      <td>40.45</td>\n",
       "      <td>51.86</td>\n",
       "      <td>0.00</td>\n",
       "      <td>0.00</td>\n",
       "      <td>0.0</td>\n",
       "      <td>712.0</td>\n",
       "      <td>540.0</td>\n",
       "      <td>252.0</td>\n",
       "      <td>583.0</td>\n",
       "      <td>0</td>\n",
       "    </tr>\n",
       "  </tbody>\n",
       "</table>\n",
       "<p>5 rows × 224 columns</p>\n",
       "</div>"
      ],
      "text/plain": [
       "    mobile_number  circle_id  loc_og_t2o_mou  std_og_t2o_mou  loc_ic_t2o_mou  \\\n",
       "0      7000842753        109             0.0             0.0             0.0   \n",
       "7      7000701601        109             0.0             0.0             0.0   \n",
       "8      7001524846        109             0.0             0.0             0.0   \n",
       "21     7002124215        109             0.0             0.0             0.0   \n",
       "23     7000887461        109             0.0             0.0             0.0   \n",
       "\n",
       "   last_date_of_month_6 last_date_of_month_7 last_date_of_month_8  \\\n",
       "0             6/30/2014            7/31/2014            8/31/2014   \n",
       "7             6/30/2014            7/31/2014            8/31/2014   \n",
       "8             6/30/2014            7/31/2014            8/31/2014   \n",
       "21            6/30/2014            7/31/2014            8/31/2014   \n",
       "23            6/30/2014            7/31/2014            8/31/2014   \n",
       "\n",
       "   last_date_of_month_9    arpu_6  ...  aug_vbc_3g  jul_vbc_3g  jun_vbc_3g  \\\n",
       "0             9/30/2014   197.385  ...       30.40        0.00      101.20   \n",
       "7             9/30/2014  1069.180  ...       57.74       19.38       18.74   \n",
       "8             9/30/2014   378.721  ...       21.03      910.65      122.16   \n",
       "21            9/30/2014   514.453  ...        0.00        0.00        0.00   \n",
       "23            9/30/2014    74.350  ...       40.45       51.86        0.00   \n",
       "\n",
       "    sep_vbc_3g  total_rech_amt_data_6  total_rech_amt_data_7  \\\n",
       "0         3.58                  252.0                  252.0   \n",
       "7         0.00                    0.0                    0.0   \n",
       "8         0.00                    0.0                  354.0   \n",
       "21        0.00                    0.0                    0.0   \n",
       "23        0.00                    0.0                  712.0   \n",
       "\n",
       "    total_rech_amt_data_8  total_rech_amt_data_9  av_rech_amt_6_7  churn  \n",
       "0                   252.0                    0.0            559.0      1  \n",
       "7                     0.0                    0.0           1185.0      1  \n",
       "8                   207.0                    0.0            696.0      0  \n",
       "21                    0.0                    0.0            640.0      0  \n",
       "23                  540.0                  252.0            583.0      0  \n",
       "\n",
       "[5 rows x 224 columns]"
      ]
     },
     "execution_count": 12,
     "metadata": {},
     "output_type": "execute_result"
    }
   ],
   "source": [
    "#Tagging churners\n",
    "telecom_HighValue_Cust['churn'] = np.where(telecom_HighValue_Cust[['total_ic_mou_9','total_og_mou_9','vol_2g_mb_9','vol_3g_mb_9']].sum(axis=1) == 0, 1,0)\n",
    "telecom_HighValue_Cust.head()"
   ]
  },
  {
   "cell_type": "code",
   "execution_count": 13,
   "metadata": {},
   "outputs": [
    {
     "data": {
      "text/plain": [
       "0    91.877274\n",
       "1     8.122726\n",
       "Name: churn, dtype: float64"
      ]
     },
     "execution_count": 13,
     "metadata": {},
     "output_type": "execute_result"
    }
   ],
   "source": [
    "# Churn rate\n",
    "telecom_HighValue_Cust['churn'].value_counts()/len(telecom_HighValue_Cust)*100"
   ]
  },
  {
   "cell_type": "code",
   "execution_count": 14,
   "metadata": {},
   "outputs": [
    {
     "name": "stdout",
     "output_type": "stream",
     "text": [
      "last_date_of_month_6        6/30/2014\n",
      "last_date_of_month_7        7/31/2014\n",
      "last_date_of_month_8        8/31/2014\n",
      "last_date_of_month_9        9/30/2014\n",
      "date_of_last_rech_6         6/21/2014\n",
      "date_of_last_rech_7         7/16/2014\n",
      "date_of_last_rech_8          8/8/2014\n",
      "date_of_last_rech_9         9/28/2014\n",
      "date_of_last_rech_data_6    6/21/2014\n",
      "date_of_last_rech_data_7    7/16/2014\n",
      "date_of_last_rech_data_8     8/8/2014\n",
      "date_of_last_rech_data_9          NaN\n",
      "Name: 0, dtype: object\n"
     ]
    }
   ],
   "source": [
    "# Changing data type of columns\n",
    "\n",
    "object_col_data = telecom_HighValue_Cust.select_dtypes(include=['object'])\n",
    "print(object_col_data.iloc[0])\n",
    "\n",
    "# convert to datetime\n",
    "for col in object_col_data.columns:\n",
    "    telecom_HighValue_Cust[col] = pd.to_datetime(telecom_HighValue_Cust[col])"
   ]
  },
  {
   "cell_type": "code",
   "execution_count": 15,
   "metadata": {},
   "outputs": [
    {
     "name": "stdout",
     "output_type": "stream",
     "text": [
      "['last_date_of_month_9', 'arpu_9', 'onnet_mou_9', 'offnet_mou_9', 'roam_ic_mou_9', 'roam_og_mou_9', 'loc_og_t2t_mou_9', 'loc_og_t2m_mou_9', 'loc_og_t2f_mou_9', 'loc_og_t2c_mou_9', 'loc_og_mou_9', 'std_og_t2t_mou_9', 'std_og_t2m_mou_9', 'std_og_t2f_mou_9', 'std_og_t2c_mou_9', 'std_og_mou_9', 'isd_og_mou_9', 'spl_og_mou_9', 'og_others_9', 'total_og_mou_9', 'loc_ic_t2t_mou_9', 'loc_ic_t2m_mou_9', 'loc_ic_t2f_mou_9', 'loc_ic_mou_9', 'std_ic_t2t_mou_9', 'std_ic_t2m_mou_9', 'std_ic_t2f_mou_9', 'std_ic_t2o_mou_9', 'std_ic_mou_9', 'total_ic_mou_9', 'spl_ic_mou_9', 'isd_ic_mou_9', 'ic_others_9', 'total_rech_num_9', 'total_rech_amt_9', 'max_rech_amt_9', 'date_of_last_rech_9', 'last_day_rch_amt_9', 'date_of_last_rech_data_9', 'max_rech_data_9', 'count_rech_2g_9', 'count_rech_3g_9', 'vol_2g_mb_9', 'vol_3g_mb_9', 'arpu_3g_9', 'arpu_2g_9', 'night_pck_user_9', 'monthly_2g_9', 'sachet_2g_9', 'monthly_3g_9', 'sachet_3g_9', 'fb_user_9', 'total_rech_amt_data_9']\n"
     ]
    }
   ],
   "source": [
    "# Dropping attributes of churn phase\n",
    "drop_cols = [col for col in telecom_HighValue_Cust.columns if '_9' in col]\n",
    "print(drop_cols)"
   ]
  },
  {
   "cell_type": "code",
   "execution_count": 16,
   "metadata": {},
   "outputs": [],
   "source": [
    "telecom_HighValue_Cust.drop(drop_cols, axis=1, inplace=True)"
   ]
  },
  {
   "cell_type": "code",
   "execution_count": 17,
   "metadata": {},
   "outputs": [
    {
     "data": {
      "text/plain": [
       "(29953, 171)"
      ]
     },
     "execution_count": 17,
     "metadata": {},
     "output_type": "execute_result"
    }
   ],
   "source": [
    "telecom_HighValue_Cust.shape"
   ]
  },
  {
   "cell_type": "code",
   "execution_count": 18,
   "metadata": {},
   "outputs": [
    {
     "data": {
      "text/plain": [
       "(29953, 147)"
      ]
     },
     "execution_count": 18,
     "metadata": {},
     "output_type": "execute_result"
    }
   ],
   "source": [
    "# Drop Columns with > 30% of missing values\n",
    "cols = telecom_HighValue_Cust.columns\n",
    "telecom_null_perc = telecom_HighValue_Cust.isnull().sum() * 100 / len(telecom_HighValue_Cust)\n",
    "telecom_null_df = pd.DataFrame({'col_name': cols,\n",
    "                                 'perc_null': telecom_null_perc})\n",
    "\n",
    "drop_cols = telecom_null_df.loc[telecom_null_df[\"perc_null\"] > 30.0][\"col_name\"]\n",
    "\n",
    "# lets drop these columns\n",
    "telecom_HighValue_Cust.drop(drop_cols, axis=1,inplace = True)\n",
    "telecom_HighValue_Cust.shape"
   ]
  },
  {
   "cell_type": "code",
   "execution_count": 19,
   "metadata": {},
   "outputs": [
    {
     "data": {
      "text/plain": [
       "monthly_3g_6      vol_3g_mb_6         0.601325\n",
       "total_ic_mou_7    loc_ic_t2t_mou_7    0.601655\n",
       "total_rech_amt_8  arpu_6              0.604021\n",
       "roam_og_mou_8     roam_og_mou_7       0.605131\n",
       "offnet_mou_8      offnet_mou_6        0.605156\n",
       "                                        ...   \n",
       "total_rech_amt_7  arpu_7              0.943571\n",
       "total_rech_amt_6  arpu_6              0.946104\n",
       "isd_og_mou_8      isd_og_mou_7        0.949809\n",
       "                  isd_og_mou_6        0.950194\n",
       "total_rech_amt_8  arpu_8              0.955322\n",
       "Length: 206, dtype: float64"
      ]
     },
     "execution_count": 19,
     "metadata": {},
     "output_type": "execute_result"
    }
   ],
   "source": [
    "# Dropping highly correlated columns\n",
    "\n",
    "cor = telecom_HighValue_Cust.corr()\n",
    "cor.loc[:,:] = np.tril(cor, k=-1)\n",
    "cor = cor.stack()\n",
    "cor[(cor > 0.60) | (cor < -0.60)].sort_values()"
   ]
  },
  {
   "cell_type": "code",
   "execution_count": 20,
   "metadata": {},
   "outputs": [],
   "source": [
    "drop_column_list = ['loc_og_t2m_mou_6','std_og_t2t_mou_6','std_og_t2t_mou_7','std_og_t2t_mou_8','std_og_t2m_mou_6',\n",
    "                'std_og_t2m_mou_7','std_og_t2m_mou_8','total_og_mou_6','total_og_mou_7','total_og_mou_8',\n",
    "                'loc_ic_t2t_mou_6','loc_ic_t2t_mou_7','loc_ic_t2t_mou_8','loc_ic_t2m_mou_6','loc_ic_t2m_mou_7','loc_ic_t2m_mou_8',\n",
    "                'std_ic_t2m_mou_6','std_ic_t2m_mou_7','std_ic_t2m_mou_8','total_ic_mou_6','total_ic_mou_7','total_ic_mou_8',\n",
    "                'total_rech_amt_6','total_rech_amt_7','total_rech_amt_8','vol_3g_mb_6','vol_3g_mb_7','vol_3g_mb_8',\n",
    "                'loc_og_t2t_mou_6','loc_og_t2t_mou_7','loc_og_t2t_mou_8','loc_og_t2f_mou_8',\n",
    "                'loc_og_t2m_mou_7','loc_og_t2m_mou_8','loc_ic_t2f_mou_6','loc_ic_t2f_mou_7','loc_ic_t2f_mou_8',\n",
    "                'date_of_last_rech_6','date_of_last_rech_7','date_of_last_rech_8']\n",
    "                 \n",
    "telecom_HighValue_Cust.drop(drop_column_list, axis=1, inplace=True)"
   ]
  },
  {
   "cell_type": "markdown",
   "metadata": {},
   "source": [
    "## Preprocessing Data"
   ]
  },
  {
   "cell_type": "code",
   "execution_count": 21,
   "metadata": {},
   "outputs": [
    {
     "data": {
      "text/html": [
       "<div>\n",
       "<style scoped>\n",
       "    .dataframe tbody tr th:only-of-type {\n",
       "        vertical-align: middle;\n",
       "    }\n",
       "\n",
       "    .dataframe tbody tr th {\n",
       "        vertical-align: top;\n",
       "    }\n",
       "\n",
       "    .dataframe thead th {\n",
       "        text-align: right;\n",
       "    }\n",
       "</style>\n",
       "<table border=\"1\" class=\"dataframe\">\n",
       "  <thead>\n",
       "    <tr style=\"text-align: right;\">\n",
       "      <th></th>\n",
       "      <th>circle_id</th>\n",
       "      <th>loc_og_t2o_mou</th>\n",
       "      <th>std_og_t2o_mou</th>\n",
       "      <th>loc_ic_t2o_mou</th>\n",
       "      <th>last_date_of_month_6</th>\n",
       "      <th>last_date_of_month_7</th>\n",
       "      <th>last_date_of_month_8</th>\n",
       "      <th>std_og_t2c_mou_6</th>\n",
       "      <th>std_og_t2c_mou_7</th>\n",
       "      <th>std_og_t2c_mou_8</th>\n",
       "      <th>std_ic_t2o_mou_6</th>\n",
       "      <th>std_ic_t2o_mou_7</th>\n",
       "      <th>std_ic_t2o_mou_8</th>\n",
       "    </tr>\n",
       "  </thead>\n",
       "  <tbody>\n",
       "    <tr>\n",
       "      <th>0</th>\n",
       "      <td>109</td>\n",
       "      <td>0.0</td>\n",
       "      <td>0.0</td>\n",
       "      <td>0.0</td>\n",
       "      <td>2014-06-30</td>\n",
       "      <td>2014-07-31</td>\n",
       "      <td>2014-08-31</td>\n",
       "      <td>NaN</td>\n",
       "      <td>NaN</td>\n",
       "      <td>0.0</td>\n",
       "      <td>NaN</td>\n",
       "      <td>NaN</td>\n",
       "      <td>0.0</td>\n",
       "    </tr>\n",
       "    <tr>\n",
       "      <th>7</th>\n",
       "      <td>109</td>\n",
       "      <td>0.0</td>\n",
       "      <td>0.0</td>\n",
       "      <td>0.0</td>\n",
       "      <td>2014-06-30</td>\n",
       "      <td>2014-07-31</td>\n",
       "      <td>2014-08-31</td>\n",
       "      <td>0.0</td>\n",
       "      <td>0.0</td>\n",
       "      <td>0.0</td>\n",
       "      <td>0.0</td>\n",
       "      <td>0.0</td>\n",
       "      <td>0.0</td>\n",
       "    </tr>\n",
       "    <tr>\n",
       "      <th>8</th>\n",
       "      <td>109</td>\n",
       "      <td>0.0</td>\n",
       "      <td>0.0</td>\n",
       "      <td>0.0</td>\n",
       "      <td>2014-06-30</td>\n",
       "      <td>2014-07-31</td>\n",
       "      <td>2014-08-31</td>\n",
       "      <td>0.0</td>\n",
       "      <td>0.0</td>\n",
       "      <td>0.0</td>\n",
       "      <td>0.0</td>\n",
       "      <td>0.0</td>\n",
       "      <td>0.0</td>\n",
       "    </tr>\n",
       "    <tr>\n",
       "      <th>21</th>\n",
       "      <td>109</td>\n",
       "      <td>0.0</td>\n",
       "      <td>0.0</td>\n",
       "      <td>0.0</td>\n",
       "      <td>2014-06-30</td>\n",
       "      <td>2014-07-31</td>\n",
       "      <td>2014-08-31</td>\n",
       "      <td>0.0</td>\n",
       "      <td>0.0</td>\n",
       "      <td>0.0</td>\n",
       "      <td>0.0</td>\n",
       "      <td>0.0</td>\n",
       "      <td>0.0</td>\n",
       "    </tr>\n",
       "    <tr>\n",
       "      <th>23</th>\n",
       "      <td>109</td>\n",
       "      <td>0.0</td>\n",
       "      <td>0.0</td>\n",
       "      <td>0.0</td>\n",
       "      <td>2014-06-30</td>\n",
       "      <td>2014-07-31</td>\n",
       "      <td>2014-08-31</td>\n",
       "      <td>0.0</td>\n",
       "      <td>0.0</td>\n",
       "      <td>0.0</td>\n",
       "      <td>0.0</td>\n",
       "      <td>0.0</td>\n",
       "      <td>0.0</td>\n",
       "    </tr>\n",
       "  </tbody>\n",
       "</table>\n",
       "</div>"
      ],
      "text/plain": [
       "    circle_id  loc_og_t2o_mou  std_og_t2o_mou  loc_ic_t2o_mou  \\\n",
       "0         109             0.0             0.0             0.0   \n",
       "7         109             0.0             0.0             0.0   \n",
       "8         109             0.0             0.0             0.0   \n",
       "21        109             0.0             0.0             0.0   \n",
       "23        109             0.0             0.0             0.0   \n",
       "\n",
       "   last_date_of_month_6 last_date_of_month_7 last_date_of_month_8  \\\n",
       "0            2014-06-30           2014-07-31           2014-08-31   \n",
       "7            2014-06-30           2014-07-31           2014-08-31   \n",
       "8            2014-06-30           2014-07-31           2014-08-31   \n",
       "21           2014-06-30           2014-07-31           2014-08-31   \n",
       "23           2014-06-30           2014-07-31           2014-08-31   \n",
       "\n",
       "    std_og_t2c_mou_6  std_og_t2c_mou_7  std_og_t2c_mou_8  std_ic_t2o_mou_6  \\\n",
       "0                NaN               NaN               0.0               NaN   \n",
       "7                0.0               0.0               0.0               0.0   \n",
       "8                0.0               0.0               0.0               0.0   \n",
       "21               0.0               0.0               0.0               0.0   \n",
       "23               0.0               0.0               0.0               0.0   \n",
       "\n",
       "    std_ic_t2o_mou_7  std_ic_t2o_mou_8  \n",
       "0                NaN               0.0  \n",
       "7                0.0               0.0  \n",
       "8                0.0               0.0  \n",
       "21               0.0               0.0  \n",
       "23               0.0               0.0  "
      ]
     },
     "execution_count": 21,
     "metadata": {},
     "output_type": "execute_result"
    }
   ],
   "source": [
    "#Fetching columns with 1 unique value\n",
    "col_list = telecom_HighValue_Cust.loc[:,telecom_HighValue_Cust.apply(pd.Series.nunique) == 1]\n",
    "col_list.head()"
   ]
  },
  {
   "cell_type": "code",
   "execution_count": 22,
   "metadata": {},
   "outputs": [
    {
     "data": {
      "text/plain": [
       "(29953, 94)"
      ]
     },
     "execution_count": 22,
     "metadata": {},
     "output_type": "execute_result"
    }
   ],
   "source": [
    "# Removing columns with one unique value \n",
    "telecom_HighValue_Cust = telecom_HighValue_Cust.loc[:,telecom_HighValue_Cust.apply(pd.Series.nunique) != 1]\n",
    "telecom_HighValue_Cust.shape"
   ]
  },
  {
   "cell_type": "code",
   "execution_count": 23,
   "metadata": {},
   "outputs": [],
   "source": [
    "# Renaming columns\n",
    "telecom_HighValue_Cust.rename(columns={'jun_vbc_3g': 'vbc_3g_6', 'jul_vbc_3g': 'vbc_3g_7', 'aug_vbc_3g': 'vbc_3g_8', 'sep_vbc_3g': 'vbc_3g_9'}, inplace=True)"
   ]
  },
  {
   "cell_type": "markdown",
   "metadata": {},
   "source": [
    "## Exploratory Data Analysis"
   ]
  },
  {
   "cell_type": "code",
   "execution_count": 24,
   "metadata": {},
   "outputs": [
    {
     "data": {
      "image/png": "[encoded data removed]",
      "text/plain": [
       "<Figure size 1440x720 with 2 Axes>"
      ]
     },
     "metadata": {
      "needs_background": "light"
     },
     "output_type": "display_data"
    }
   ],
   "source": [
    "#finding the correlation matrix between numeric variables using heatmap\n",
    "plt.figure(figsize=(20,10))\n",
    "sns.heatmap(telecom_HighValue_Cust.corr())\n",
    "plt.show()"
   ]
  },
  {
   "cell_type": "code",
   "execution_count": 25,
   "metadata": {},
   "outputs": [
    {
     "data": {
      "text/plain": [
       "0     32.266667\n",
       "7     26.733333\n",
       "8     10.500000\n",
       "21    24.000000\n",
       "23    20.133333\n",
       "Name: aon_mon, dtype: float64"
      ]
     },
     "execution_count": 25,
     "metadata": {},
     "output_type": "execute_result"
    }
   ],
   "source": [
    "# Conevrt AON in Months\n",
    "\n",
    "telecom_HighValue_Cust['aon_mon'] = telecom_HighValue_Cust['aon']/30\n",
    "telecom_HighValue_Cust.drop('aon', axis=1, inplace=True)\n",
    "telecom_HighValue_Cust['aon_mon'].head()"
   ]
  },
  {
   "cell_type": "code",
   "execution_count": 26,
   "metadata": {},
   "outputs": [
    {
     "data": {
      "text/plain": [
       "Text(0.5, 1.0, 'Customers by their tenure')"
      ]
     },
     "execution_count": 26,
     "metadata": {},
     "output_type": "execute_result"
    },
    {
     "data": {
      "image/png": "[encoded data removed]",
      "text/plain": [
       "<Figure size 432x288 with 1 Axes>"
      ]
     },
     "metadata": {
      "needs_background": "light"
     },
     "output_type": "display_data"
    }
   ],
   "source": [
    "ax = sns.distplot(telecom_HighValue_Cust['aon_mon'], hist=True, kde=False, \n",
    "             bins=int(180/5), color = 'darkblue', \n",
    "             hist_kws={'edgecolor':'black'},\n",
    "             kde_kws={'linewidth': 4})\n",
    "ax.set_ylabel('Number of Customers')\n",
    "ax.set_xlabel('Tenure (months)')\n",
    "ax.set_title('Customers by their tenure')"
   ]
  },
  {
   "cell_type": "code",
   "execution_count": 27,
   "metadata": {},
   "outputs": [
    {
     "data": {
      "text/plain": [
       "<matplotlib.axes._subplots.AxesSubplot at 0x134d742b460>"
      ]
     },
     "execution_count": 27,
     "metadata": {},
     "output_type": "execute_result"
    },
    {
     "data": {
      "image/png": "[encoded data removed]",
      "text/plain": [
       "<Figure size 1440x864 with 1 Axes>"
      ]
     },
     "metadata": {
      "needs_background": "light"
     },
     "output_type": "display_data"
    }
   ],
   "source": [
    "# Corelation of churn \n",
    "\n",
    "plt.figure(figsize=(20,12))\n",
    "telecom_HighValue_Cust.corr()['churn'].sort_values(ascending = False).plot(kind='bar')"
   ]
  },
  {
   "cell_type": "code",
   "execution_count": 28,
   "metadata": {},
   "outputs": [
    {
     "data": {
      "text/plain": [
       "<matplotlib.axes._subplots.AxesSubplot at 0x134d750a9a0>"
      ]
     },
     "execution_count": 28,
     "metadata": {},
     "output_type": "execute_result"
    },
    {
     "data": {
      "image/png": "[encoded data removed]",
      "text/plain": [
       "<Figure size 432x288 with 1 Axes>"
      ]
     },
     "metadata": {
      "needs_background": "light"
     },
     "output_type": "display_data"
    }
   ],
   "source": [
    "# Relation between Total recharge in 8th month Vs Average revenue in 8th month\n",
    "\n",
    "telecom_HighValue_Cust[['total_rech_num_8', 'arpu_8']].plot.scatter(x = 'total_rech_num_8',\n",
    "                                                              y='arpu_8')"
   ]
  },
  {
   "cell_type": "code",
   "execution_count": 29,
   "metadata": {},
   "outputs": [
    {
     "data": {
      "text/plain": [
       "<matplotlib.axes._subplots.AxesSubplot at 0x134d76ed400>"
      ]
     },
     "execution_count": 29,
     "metadata": {},
     "output_type": "execute_result"
    },
    {
     "data": {
      "image/png": "[encoded data removed]",
      "text/plain": [
       "<Figure size 432x288 with 1 Axes>"
      ]
     },
     "metadata": {
      "needs_background": "light"
     },
     "output_type": "display_data"
    }
   ],
   "source": [
    "# Relation between churn and Tenure\n",
    "\n",
    "sns.boxplot(x = telecom_HighValue_Cust.churn, y = telecom_HighValue_Cust.aon_mon)"
   ]
  },
  {
   "cell_type": "markdown",
   "metadata": {},
   "source": [
    "Customers who do not churn tend to stay for longer tenure "
   ]
  },
  {
   "cell_type": "code",
   "execution_count": 30,
   "metadata": {},
   "outputs": [],
   "source": [
    "# Creating new dataframe for model\n",
    "\n",
    "df = telecom_HighValue_Cust[:].copy()\n",
    "\n",
    "# Dropping mobile_number\n",
    "df.drop('mobile_number', axis=1, inplace=True)\n",
    "\n",
    "# Since all values are realted to Price/ Cost/ Amount, Filling NaN with 0\n",
    "\n",
    "df.fillna(0, inplace=True)"
   ]
  },
  {
   "cell_type": "code",
   "execution_count": 31,
   "metadata": {},
   "outputs": [],
   "source": [
    "X = df.drop(['churn'], axis=1)\n",
    "y = df['churn']\n",
    "\n",
    "df.drop('churn', axis=1, inplace=True)"
   ]
  },
  {
   "cell_type": "code",
   "execution_count": 32,
   "metadata": {},
   "outputs": [],
   "source": [
    "scaler = preprocessing.StandardScaler().fit(X)\n",
    "X = scaler.transform(X)\n",
    "\n",
    "X_train, X_test, y_train, y_test = train_test_split(X, y, test_size=0.3, train_size=0.7, random_state=100,stratify = y)"
   ]
  },
  {
   "cell_type": "markdown",
   "metadata": {},
   "source": [
    "### Splitting the data using *stratify* parameter to make sure the class variables are equally distributed among the train and test splits thereby handling class imbalance"
   ]
  },
  {
   "cell_type": "code",
   "execution_count": 34,
   "metadata": {},
   "outputs": [
    {
     "data": {
      "text/plain": [
       "0    91.877713\n",
       "1     8.122287\n",
       "Name: churn, dtype: float64"
      ]
     },
     "execution_count": 34,
     "metadata": {},
     "output_type": "execute_result"
    }
   ],
   "source": [
    "y_train.value_counts()/len(y_train)*100"
   ]
  },
  {
   "cell_type": "code",
   "execution_count": 35,
   "metadata": {},
   "outputs": [
    {
     "data": {
      "text/plain": [
       "0    91.876252\n",
       "1     8.123748\n",
       "Name: churn, dtype: float64"
      ]
     },
     "execution_count": 35,
     "metadata": {},
     "output_type": "execute_result"
    }
   ],
   "source": [
    "y_test.value_counts()/len(y_test)*100"
   ]
  },
  {
   "cell_type": "markdown",
   "metadata": {},
   "source": [
    "### Predicting the churn using Principal Component Analysis"
   ]
  },
  {
   "cell_type": "code",
   "execution_count": 36,
   "metadata": {},
   "outputs": [
    {
     "data": {
      "text/plain": [
       "PCA(random_state=100)"
      ]
     },
     "execution_count": 36,
     "metadata": {},
     "output_type": "execute_result"
    }
   ],
   "source": [
    "#Importing the PCA module\n",
    "from sklearn.decomposition import PCA\n",
    "pca = PCA(random_state=100)\n",
    "\n",
    "#Doing the PCA on the train data\n",
    "pca.fit(X_train)"
   ]
  },
  {
   "cell_type": "code",
   "execution_count": 37,
   "metadata": {},
   "outputs": [
    {
     "name": "stdout",
     "output_type": "stream",
     "text": [
      "(20967, 92)\n",
      "(8986, 92)\n"
     ]
    }
   ],
   "source": [
    "X_train_pca = pca.fit_transform(X_train)\n",
    "print(X_train_pca.shape)\n",
    "\n",
    "X_test_pca = pca.transform(X_test)\n",
    "print(X_test_pca.shape)"
   ]
  },
  {
   "cell_type": "markdown",
   "metadata": {},
   "source": [
    "### Applying logistic regression"
   ]
  },
  {
   "cell_type": "code",
   "execution_count": 38,
   "metadata": {},
   "outputs": [],
   "source": [
    "from sklearn.linear_model import LogisticRegression\n",
    "from sklearn import metrics\n",
    "lr_pca = LogisticRegression()\n",
    "lr_pca.fit(X_train_pca, y_train)\n",
    "\n",
    "# Predicted probabilities\n",
    "y_pred = lr_pca.predict(X_test_pca)\n",
    "\n",
    "# Converting y_pred to a dataframe which is an array\n",
    "y_pred_df = pd.DataFrame(y_pred)"
   ]
  },
  {
   "cell_type": "code",
   "execution_count": 39,
   "metadata": {},
   "outputs": [
    {
     "name": "stdout",
     "output_type": "stream",
     "text": [
      "[[8156  100]\n",
      " [ 529  201]]\n"
     ]
    }
   ],
   "source": [
    "from sklearn.metrics import classification_report, confusion_matrix, accuracy_score\n",
    "\n",
    "# Printing confusion matrix\n",
    "print(confusion_matrix(y_test,y_pred))"
   ]
  },
  {
   "cell_type": "code",
   "execution_count": 40,
   "metadata": {},
   "outputs": [
    {
     "name": "stdout",
     "output_type": "stream",
     "text": [
      "Logistic Regression accuracy with PCA:  0.9300022256843979\n"
     ]
    }
   ],
   "source": [
    "print(\"Logistic Regression accuracy with PCA: \",accuracy_score(y_test,y_pred))"
   ]
  },
  {
   "cell_type": "code",
   "execution_count": 41,
   "metadata": {},
   "outputs": [],
   "source": [
    "col = list(df.columns)\n",
    "df_pca = pd.DataFrame({'PC1':pca.components_[0],'PC2':pca.components_[1], 'PC3':pca.components_[2],'Feature':col})"
   ]
  },
  {
   "cell_type": "code",
   "execution_count": 42,
   "metadata": {},
   "outputs": [
    {
     "data": {
      "image/png": "[encoded data removed]",
      "text/plain": [
       "<Figure size 864x504 with 1 Axes>"
      ]
     },
     "metadata": {
      "needs_background": "light"
     },
     "output_type": "display_data"
    }
   ],
   "source": [
    "#Making the screeplot - plotting the cumulative variance against the number of components\n",
    "%matplotlib inline\n",
    "fig = plt.figure(figsize = (12,7))\n",
    "plt.plot(np.cumsum(pca.explained_variance_ratio_))\n",
    "plt.xlabel('Components')\n",
    "plt.ylabel('cumulative explained variance')\n",
    "plt.show()"
   ]
  },
  {
   "cell_type": "code",
   "execution_count": 43,
   "metadata": {},
   "outputs": [
    {
     "data": {
      "text/plain": [
       "array([  8.2 ,  14.84,  20.4 ,  25.08,  29.29,  32.89,  36.32,  39.68,\n",
       "        42.89,  45.93,  48.71,  51.29,  53.62,  55.88,  58.08,  60.05,\n",
       "        61.9 ,  63.63,  65.34,  66.8 ,  68.22,  69.6 ,  70.82,  72.  ,\n",
       "        73.16,  74.29,  75.4 ,  76.45,  77.43,  78.4 ,  79.35,  80.28,\n",
       "        81.18,  82.05,  82.9 ,  83.72,  84.51,  85.2 ,  85.88,  86.53,\n",
       "        87.15,  87.75,  88.33,  88.87,  89.4 ,  89.92,  90.39,  90.84,\n",
       "        91.28,  91.7 ,  92.1 ,  92.49,  92.86,  93.22,  93.57,  93.91,\n",
       "        94.25,  94.57,  94.88,  95.18,  95.47,  95.75,  96.03,  96.29,\n",
       "        96.54,  96.78,  97.01,  97.23,  97.45,  97.66,  97.87,  98.06,\n",
       "        98.25,  98.43,  98.6 ,  98.76,  98.92,  99.06,  99.2 ,  99.33,\n",
       "        99.45,  99.56,  99.67,  99.77,  99.85,  99.93,  99.99, 100.02,\n",
       "       100.02, 100.02, 100.02, 100.02])"
      ]
     },
     "execution_count": 43,
     "metadata": {},
     "output_type": "execute_result"
    }
   ],
   "source": [
    "np.cumsum(np.round(pca.explained_variance_ratio_, decimals=4)*100)"
   ]
  },
  {
   "cell_type": "markdown",
   "metadata": {},
   "source": [
    "```47 components explain 90% variance```\n",
    "\n",
    "```60 components explain 95% variance```\n"
   ]
  },
  {
   "cell_type": "code",
   "execution_count": 44,
   "metadata": {},
   "outputs": [
    {
     "name": "stdout",
     "output_type": "stream",
     "text": [
      "(20967, 47)\n",
      "(8986, 47)\n"
     ]
    }
   ],
   "source": [
    "# Applying LR with 90% variance\n",
    "\n",
    "pca_90 = PCA(0.9)\n",
    "\n",
    "df_tr_pca_90 = pca_90.fit_transform(X_train)\n",
    "print(df_tr_pca_90.shape)\n",
    "\n",
    "df_test_pca_90 = pca_90.transform(X_test)\n",
    "print(df_test_pca_90.shape)"
   ]
  },
  {
   "cell_type": "code",
   "execution_count": 45,
   "metadata": {},
   "outputs": [],
   "source": [
    "# Running the model using selected variables\n",
    "\n",
    "lr_pca1 = LogisticRegression()\n",
    "lr_pca1.fit(df_tr_pca_90, y_train)\n",
    "\n",
    "# Predicted probabilities\n",
    "y_pred90 = lr_pca1.predict(df_test_pca_90)\n",
    "\n",
    "# Converting y_pred to a dataframe which is an array\n",
    "df_y_pred = pd.DataFrame(y_pred90)"
   ]
  },
  {
   "cell_type": "code",
   "execution_count": 46,
   "metadata": {},
   "outputs": [
    {
     "name": "stdout",
     "output_type": "stream",
     "text": [
      "[[8146  110]\n",
      " [ 563  167]]\n"
     ]
    }
   ],
   "source": [
    "print(confusion_matrix(y_test,y_pred90))"
   ]
  },
  {
   "cell_type": "code",
   "execution_count": 47,
   "metadata": {},
   "outputs": [
    {
     "name": "stdout",
     "output_type": "stream",
     "text": [
      "Logistic Regression accuracy with PCA =  0.9251057200089028\n"
     ]
    }
   ],
   "source": [
    "print(\"Logistic Regression accuracy with PCA = \",accuracy_score(y_test,y_pred90))"
   ]
  },
  {
   "cell_type": "markdown",
   "metadata": {},
   "source": [
    "## Model Building"
   ]
  },
  {
   "cell_type": "code",
   "execution_count": 48,
   "metadata": {},
   "outputs": [],
   "source": [
    "# Feature reduction using RFE\n",
    "lr = LogisticRegression()\n",
    "\n",
    "# running RFE with 15 variables as output\n",
    "rfe = RFE(lr, 15)   \n",
    "rfe = rfe.fit(X_train, y_train)"
   ]
  },
  {
   "cell_type": "code",
   "execution_count": 49,
   "metadata": {},
   "outputs": [
    {
     "name": "stdout",
     "output_type": "stream",
     "text": [
      "Features identified using RFE  ['arpu_6', 'loc_og_mou_8', 'loc_ic_mou_7', 'loc_ic_mou_8', 'std_ic_mou_8', 'spl_ic_mou_8', 'total_rech_num_8', 'last_day_rch_amt_8', 'vol_2g_mb_8', 'monthly_2g_8', 'sachet_2g_8', 'monthly_3g_8', 'sachet_3g_8', 'vbc_3g_9', 'total_rech_amt_data_8']\n"
     ]
    }
   ],
   "source": [
    "rfe_features = list(df.columns[rfe.support_])\n",
    "print(\"Features identified using RFE \", rfe_features)"
   ]
  },
  {
   "cell_type": "code",
   "execution_count": 50,
   "metadata": {},
   "outputs": [],
   "source": [
    "X_rfe = pd.DataFrame(data=X_train).iloc[:, rfe.support_]\n",
    "y_rfe = y_train"
   ]
  },
  {
   "cell_type": "markdown",
   "metadata": {},
   "source": [
    "### Logistic Regression"
   ]
  },
  {
   "cell_type": "code",
   "execution_count": 51,
   "metadata": {},
   "outputs": [
    {
     "data": {
      "text/plain": [
       "LogisticRegression()"
      ]
     },
     "execution_count": 51,
     "metadata": {},
     "output_type": "execute_result"
    }
   ],
   "source": [
    "from sklearn.linear_model import LogisticRegression\n",
    "lr = LogisticRegression()\n",
    "lr.fit(X_rfe, y_rfe)"
   ]
  },
  {
   "cell_type": "code",
   "execution_count": 52,
   "metadata": {},
   "outputs": [
    {
     "name": "stdout",
     "output_type": "stream",
     "text": [
      "[[8196   60]\n",
      " [ 578  152]]\n"
     ]
    }
   ],
   "source": [
    "X_test_rfe = pd.DataFrame(data=X_test).iloc[:, rfe.support_]\n",
    "\n",
    "y_pred = lr.predict(X_test_rfe)\n",
    "\n",
    "from sklearn.metrics import confusion_matrix\n",
    "confusion_matrix = confusion_matrix(y_test, y_pred)\n",
    "print(confusion_matrix)"
   ]
  },
  {
   "cell_type": "code",
   "execution_count": 53,
   "metadata": {},
   "outputs": [
    {
     "name": "stdout",
     "output_type": "stream",
     "text": [
      "Accuracy of Logistic Regression Model:  0.9290006677053194\n"
     ]
    }
   ],
   "source": [
    "print('Accuracy of Logistic Regression Model: ',lr.score(X_test_rfe, y_test))"
   ]
  },
  {
   "cell_type": "code",
   "execution_count": 54,
   "metadata": {},
   "outputs": [
    {
     "name": "stdout",
     "output_type": "stream",
     "text": [
      "              precision    recall  f1-score   support\n",
      "\n",
      "           0       0.93      0.99      0.96      8256\n",
      "           1       0.72      0.21      0.32       730\n",
      "\n",
      "    accuracy                           0.93      8986\n",
      "   macro avg       0.83      0.60      0.64      8986\n",
      "weighted avg       0.92      0.93      0.91      8986\n",
      "\n"
     ]
    }
   ],
   "source": [
    "print(classification_report(y_test, y_pred))"
   ]
  },
  {
   "cell_type": "code",
   "execution_count": 55,
   "metadata": {},
   "outputs": [
    {
     "data": {
      "text/plain": [
       "loc_ic_mou_7             0.760537\n",
       "arpu_6                   0.359198\n",
       "total_rech_amt_data_8    0.330455\n",
       "sachet_3g_8             -0.276852\n",
       "vol_2g_mb_8             -0.311542\n",
       "std_ic_mou_8            -0.370569\n",
       "spl_ic_mou_8            -0.386968\n",
       "monthly_2g_8            -0.597935\n",
       "total_rech_num_8        -0.627550\n",
       "last_day_rch_amt_8      -0.629904\n",
       "sachet_2g_8             -0.631821\n",
       "monthly_3g_8            -0.645933\n",
       "loc_og_mou_8            -0.734082\n",
       "vbc_3g_9                -1.129393\n",
       "loc_ic_mou_8            -2.800653\n",
       "dtype: float64"
      ]
     },
     "execution_count": 55,
     "metadata": {},
     "output_type": "execute_result"
    }
   ],
   "source": [
    "# To get the weights of all the variables\n",
    "weights = pd.Series(lr.coef_[0],\n",
    "                 index=rfe_features)\n",
    "weights.sort_values(ascending = False)"
   ]
  },
  {
   "cell_type": "code",
   "execution_count": 56,
   "metadata": {},
   "outputs": [
    {
     "data": {
      "text/plain": [
       "<matplotlib.axes._subplots.AxesSubplot at 0x134d772ce80>"
      ]
     },
     "execution_count": 56,
     "metadata": {},
     "output_type": "execute_result"
    },
    {
     "data": {
      "image/png": "[encoded data removed]",
      "text/plain": [
       "<Figure size 432x288 with 1 Axes>"
      ]
     },
     "metadata": {
      "needs_background": "light"
     },
     "output_type": "display_data"
    }
   ],
   "source": [
    "weights.sort_values()[-10:].plot(kind = 'barh')"
   ]
  },
  {
   "cell_type": "markdown",
   "metadata": {},
   "source": [
    "### Model accuracy is 93%"
   ]
  },
  {
   "cell_type": "markdown",
   "metadata": {},
   "source": [
    "### Decision Trees"
   ]
  },
  {
   "cell_type": "code",
   "execution_count": 57,
   "metadata": {},
   "outputs": [
    {
     "name": "stdout",
     "output_type": "stream",
     "text": [
      "(20967, 20)\n",
      "[ 0  2  8  9 13 14 22 26 40 52 59 61 64 67 70 72 73 76 83 91]\n"
     ]
    }
   ],
   "source": [
    "# Feature selection using LASSO\n",
    "\n",
    "from sklearn.svm import LinearSVC\n",
    "from sklearn.feature_selection import SelectFromModel\n",
    " \n",
    "linsvc = LinearSVC(C=0.001, penalty=\"l1\", dual=False).fit(X_train, y_train)\n",
    "model = SelectFromModel(linsvc, prefit=True)\n",
    "X_lasso = model.transform(X_train)\n",
    "pos = model.get_support(indices=True)\n",
    "\n",
    "# Feature reduction using RFE\n",
    "print(X_lasso.shape)\n",
    "print(pos)"
   ]
  },
  {
   "cell_type": "code",
   "execution_count": 58,
   "metadata": {},
   "outputs": [
    {
     "name": "stdout",
     "output_type": "stream",
     "text": [
      "Features for LASSO model buidling:  ['arpu_6', 'arpu_8', 'offnet_mou_8', 'roam_ic_mou_6', 'roam_og_mou_7', 'roam_og_mou_8', 'loc_og_mou_8', 'std_og_mou_6', 'loc_ic_mou_8', 'spl_ic_mou_8', 'total_rech_num_6', 'total_rech_num_8', 'max_rech_amt_8', 'last_day_rch_amt_8', 'vol_2g_mb_8', 'monthly_2g_7', 'monthly_2g_8', 'sachet_2g_8', 'vbc_3g_8', 'aon_mon']\n"
     ]
    }
   ],
   "source": [
    "#feature vector for decision tree\n",
    "lasso_features = list(df.columns[pos])\n",
    "print(\"Features for LASSO model buidling: \", lasso_features)"
   ]
  },
  {
   "cell_type": "code",
   "execution_count": 59,
   "metadata": {},
   "outputs": [
    {
     "data": {
      "text/plain": [
       "DecisionTreeClassifier(max_depth=5)"
      ]
     },
     "execution_count": 59,
     "metadata": {},
     "output_type": "execute_result"
    }
   ],
   "source": [
    "# Fitting the decision tree with default hyperparameters\n",
    "# max_depth = 5 (so that we can plot and read the tree)\n",
    "dtc = DecisionTreeClassifier(max_depth=5)\n",
    "dtc.fit(X_lasso, y_train)"
   ]
  },
  {
   "cell_type": "code",
   "execution_count": 60,
   "metadata": {},
   "outputs": [
    {
     "name": "stdout",
     "output_type": "stream",
     "text": [
      "              precision    recall  f1-score   support\n",
      "\n",
      "           0       0.96      0.98      0.97      8256\n",
      "           1       0.70      0.55      0.62       730\n",
      "\n",
      "    accuracy                           0.94      8986\n",
      "   macro avg       0.83      0.76      0.79      8986\n",
      "weighted avg       0.94      0.94      0.94      8986\n",
      "\n"
     ]
    }
   ],
   "source": [
    "# Making predictions\n",
    "X_test = pd.DataFrame(data=X_test).iloc[:, pos]\n",
    "y_pred1 = dtc.predict(X_test)\n",
    "\n",
    "# Printing classification report\n",
    "print(classification_report(y_test, y_pred1))"
   ]
  },
  {
   "cell_type": "code",
   "execution_count": 61,
   "metadata": {},
   "outputs": [
    {
     "name": "stdout",
     "output_type": "stream",
     "text": [
      "[[8082  174]\n",
      " [ 328  402]]\n",
      "Accuracy of Decision Tree = 0.9441353216113955\n"
     ]
    }
   ],
   "source": [
    "# Printing confusion matrix and accuracy\n",
    "from sklearn.metrics import confusion_matrix\n",
    "print(confusion_matrix(y_test,y_pred1))\n",
    "print('Accuracy of Decision Tree =',accuracy_score(y_test,y_pred1))"
   ]
  },
  {
   "cell_type": "markdown",
   "metadata": {},
   "source": [
    "#### Hyperparameter tuning"
   ]
  },
  {
   "cell_type": "code",
   "execution_count": 62,
   "metadata": {},
   "outputs": [
    {
     "data": {
      "text/plain": [
       "GridSearchCV(cv=5, estimator=DecisionTreeClassifier(random_state=100),\n",
       "             param_grid={'max_depth': range(1, 40)}, return_train_score=True,\n",
       "             scoring='accuracy')"
      ]
     },
     "execution_count": 62,
     "metadata": {},
     "output_type": "execute_result"
    }
   ],
   "source": [
    "# GridSearchCV to find optimal max_depth\n",
    "\n",
    "# Number of folds for k-fold CV\n",
    "n_folds = 5\n",
    "\n",
    "# parameters to build the model on\n",
    "parameters = {'max_depth': range(1, 40)}\n",
    "\n",
    "# instantiate the model\n",
    "dt = DecisionTreeClassifier(criterion = \"gini\", \n",
    "                               random_state = 100)\n",
    "\n",
    "# fit tree on training data\n",
    "tree = GridSearchCV(dt, parameters, \n",
    "                    cv=n_folds, \n",
    "                   scoring=\"accuracy\",return_train_score=True)\n",
    "tree.fit(X_lasso, y_train)"
   ]
  },
  {
   "cell_type": "code",
   "execution_count": 63,
   "metadata": {},
   "outputs": [
    {
     "data": {
      "text/html": [
       "<div>\n",
       "<style scoped>\n",
       "    .dataframe tbody tr th:only-of-type {\n",
       "        vertical-align: middle;\n",
       "    }\n",
       "\n",
       "    .dataframe tbody tr th {\n",
       "        vertical-align: top;\n",
       "    }\n",
       "\n",
       "    .dataframe thead th {\n",
       "        text-align: right;\n",
       "    }\n",
       "</style>\n",
       "<table border=\"1\" class=\"dataframe\">\n",
       "  <thead>\n",
       "    <tr style=\"text-align: right;\">\n",
       "      <th></th>\n",
       "      <th>mean_fit_time</th>\n",
       "      <th>std_fit_time</th>\n",
       "      <th>mean_score_time</th>\n",
       "      <th>std_score_time</th>\n",
       "      <th>param_max_depth</th>\n",
       "      <th>params</th>\n",
       "      <th>split0_test_score</th>\n",
       "      <th>split1_test_score</th>\n",
       "      <th>split2_test_score</th>\n",
       "      <th>split3_test_score</th>\n",
       "      <th>...</th>\n",
       "      <th>mean_test_score</th>\n",
       "      <th>std_test_score</th>\n",
       "      <th>rank_test_score</th>\n",
       "      <th>split0_train_score</th>\n",
       "      <th>split1_train_score</th>\n",
       "      <th>split2_train_score</th>\n",
       "      <th>split3_train_score</th>\n",
       "      <th>split4_train_score</th>\n",
       "      <th>mean_train_score</th>\n",
       "      <th>std_train_score</th>\n",
       "    </tr>\n",
       "  </thead>\n",
       "  <tbody>\n",
       "    <tr>\n",
       "      <th>0</th>\n",
       "      <td>0.057152</td>\n",
       "      <td>0.006225</td>\n",
       "      <td>0.000000</td>\n",
       "      <td>0.000000</td>\n",
       "      <td>1</td>\n",
       "      <td>{'max_depth': 1}</td>\n",
       "      <td>0.928469</td>\n",
       "      <td>0.926085</td>\n",
       "      <td>0.922251</td>\n",
       "      <td>0.935845</td>\n",
       "      <td>...</td>\n",
       "      <td>0.928078</td>\n",
       "      <td>0.004439</td>\n",
       "      <td>10</td>\n",
       "      <td>0.928039</td>\n",
       "      <td>0.928635</td>\n",
       "      <td>0.929593</td>\n",
       "      <td>0.926195</td>\n",
       "      <td>0.928282</td>\n",
       "      <td>0.928149</td>\n",
       "      <td>0.001111</td>\n",
       "    </tr>\n",
       "    <tr>\n",
       "      <th>1</th>\n",
       "      <td>0.106444</td>\n",
       "      <td>0.011393</td>\n",
       "      <td>0.002664</td>\n",
       "      <td>0.002626</td>\n",
       "      <td>2</td>\n",
       "      <td>{'max_depth': 2}</td>\n",
       "      <td>0.937053</td>\n",
       "      <td>0.938722</td>\n",
       "      <td>0.935130</td>\n",
       "      <td>0.945385</td>\n",
       "      <td>...</td>\n",
       "      <td>0.939333</td>\n",
       "      <td>0.003492</td>\n",
       "      <td>4</td>\n",
       "      <td>0.939486</td>\n",
       "      <td>0.940500</td>\n",
       "      <td>0.941397</td>\n",
       "      <td>0.938834</td>\n",
       "      <td>0.940026</td>\n",
       "      <td>0.940049</td>\n",
       "      <td>0.000874</td>\n",
       "    </tr>\n",
       "    <tr>\n",
       "      <th>2</th>\n",
       "      <td>0.149660</td>\n",
       "      <td>0.005566</td>\n",
       "      <td>0.000733</td>\n",
       "      <td>0.001040</td>\n",
       "      <td>3</td>\n",
       "      <td>{'max_depth': 3}</td>\n",
       "      <td>0.937053</td>\n",
       "      <td>0.938722</td>\n",
       "      <td>0.935130</td>\n",
       "      <td>0.945385</td>\n",
       "      <td>...</td>\n",
       "      <td>0.939333</td>\n",
       "      <td>0.003492</td>\n",
       "      <td>4</td>\n",
       "      <td>0.939486</td>\n",
       "      <td>0.940500</td>\n",
       "      <td>0.942053</td>\n",
       "      <td>0.938834</td>\n",
       "      <td>0.940026</td>\n",
       "      <td>0.940180</td>\n",
       "      <td>0.001089</td>\n",
       "    </tr>\n",
       "    <tr>\n",
       "      <th>3</th>\n",
       "      <td>0.177062</td>\n",
       "      <td>0.008069</td>\n",
       "      <td>0.003333</td>\n",
       "      <td>0.006180</td>\n",
       "      <td>4</td>\n",
       "      <td>{'max_depth': 4}</td>\n",
       "      <td>0.939914</td>\n",
       "      <td>0.940153</td>\n",
       "      <td>0.937276</td>\n",
       "      <td>0.945862</td>\n",
       "      <td>...</td>\n",
       "      <td>0.941241</td>\n",
       "      <td>0.002936</td>\n",
       "      <td>1</td>\n",
       "      <td>0.941871</td>\n",
       "      <td>0.942348</td>\n",
       "      <td>0.943961</td>\n",
       "      <td>0.941934</td>\n",
       "      <td>0.942590</td>\n",
       "      <td>0.942541</td>\n",
       "      <td>0.000758</td>\n",
       "    </tr>\n",
       "    <tr>\n",
       "      <th>4</th>\n",
       "      <td>0.222543</td>\n",
       "      <td>0.005075</td>\n",
       "      <td>0.001813</td>\n",
       "      <td>0.003151</td>\n",
       "      <td>5</td>\n",
       "      <td>{'max_depth': 5}</td>\n",
       "      <td>0.939437</td>\n",
       "      <td>0.942537</td>\n",
       "      <td>0.937515</td>\n",
       "      <td>0.943954</td>\n",
       "      <td>...</td>\n",
       "      <td>0.941146</td>\n",
       "      <td>0.002333</td>\n",
       "      <td>2</td>\n",
       "      <td>0.944256</td>\n",
       "      <td>0.943540</td>\n",
       "      <td>0.944676</td>\n",
       "      <td>0.943186</td>\n",
       "      <td>0.943484</td>\n",
       "      <td>0.943828</td>\n",
       "      <td>0.000551</td>\n",
       "    </tr>\n",
       "  </tbody>\n",
       "</table>\n",
       "<p>5 rows × 21 columns</p>\n",
       "</div>"
      ],
      "text/plain": [
       "   mean_fit_time  std_fit_time  mean_score_time  std_score_time  \\\n",
       "0       0.057152      0.006225         0.000000        0.000000   \n",
       "1       0.106444      0.011393         0.002664        0.002626   \n",
       "2       0.149660      0.005566         0.000733        0.001040   \n",
       "3       0.177062      0.008069         0.003333        0.006180   \n",
       "4       0.222543      0.005075         0.001813        0.003151   \n",
       "\n",
       "  param_max_depth            params  split0_test_score  split1_test_score  \\\n",
       "0               1  {'max_depth': 1}           0.928469           0.926085   \n",
       "1               2  {'max_depth': 2}           0.937053           0.938722   \n",
       "2               3  {'max_depth': 3}           0.937053           0.938722   \n",
       "3               4  {'max_depth': 4}           0.939914           0.940153   \n",
       "4               5  {'max_depth': 5}           0.939437           0.942537   \n",
       "\n",
       "   split2_test_score  split3_test_score  ...  mean_test_score  std_test_score  \\\n",
       "0           0.922251           0.935845  ...         0.928078        0.004439   \n",
       "1           0.935130           0.945385  ...         0.939333        0.003492   \n",
       "2           0.935130           0.945385  ...         0.939333        0.003492   \n",
       "3           0.937276           0.945862  ...         0.941241        0.002936   \n",
       "4           0.937515           0.943954  ...         0.941146        0.002333   \n",
       "\n",
       "   rank_test_score  split0_train_score  split1_train_score  \\\n",
       "0               10            0.928039            0.928635   \n",
       "1                4            0.939486            0.940500   \n",
       "2                4            0.939486            0.940500   \n",
       "3                1            0.941871            0.942348   \n",
       "4                2            0.944256            0.943540   \n",
       "\n",
       "   split2_train_score  split3_train_score  split4_train_score  \\\n",
       "0            0.929593            0.926195            0.928282   \n",
       "1            0.941397            0.938834            0.940026   \n",
       "2            0.942053            0.938834            0.940026   \n",
       "3            0.943961            0.941934            0.942590   \n",
       "4            0.944676            0.943186            0.943484   \n",
       "\n",
       "   mean_train_score  std_train_score  \n",
       "0          0.928149         0.001111  \n",
       "1          0.940049         0.000874  \n",
       "2          0.940180         0.001089  \n",
       "3          0.942541         0.000758  \n",
       "4          0.943828         0.000551  \n",
       "\n",
       "[5 rows x 21 columns]"
      ]
     },
     "execution_count": 63,
     "metadata": {},
     "output_type": "execute_result"
    }
   ],
   "source": [
    "# scores of GridSearch CV\n",
    "score = tree.cv_results_\n",
    "pd.DataFrame(score).head()"
   ]
  },
  {
   "cell_type": "code",
   "execution_count": 64,
   "metadata": {},
   "outputs": [
    {
     "data": {
      "image/png": "[encoded data removed]",
      "text/plain": [
       "<Figure size 432x288 with 1 Axes>"
      ]
     },
     "metadata": {
      "needs_background": "light"
     },
     "output_type": "display_data"
    }
   ],
   "source": [
    "# plotting accuracies with max_depth\n",
    "\n",
    "plt.figure()\n",
    "plt.plot(score[\"param_max_depth\"], \n",
    "         score[\"mean_train_score\"], \n",
    "         label=\"training accuracy\")\n",
    "plt.plot(score[\"param_max_depth\"], \n",
    "         score[\"mean_test_score\"], \n",
    "         label=\"test accuracy\")\n",
    "plt.xlabel(\"max_depth\")\n",
    "plt.ylabel(\"Accuracy\")\n",
    "plt.legend()\n",
    "plt.show()"
   ]
  },
  {
   "cell_type": "markdown",
   "metadata": {},
   "source": [
    "max depth = 5 seems to be optimal"
   ]
  },
  {
   "cell_type": "code",
   "execution_count": 65,
   "metadata": {},
   "outputs": [
    {
     "data": {
      "text/plain": [
       "GridSearchCV(cv=5, estimator=DecisionTreeClassifier(random_state=100),\n",
       "             param_grid={'min_samples_leaf': range(5, 200, 20)},\n",
       "             return_train_score=True, scoring='accuracy')"
      ]
     },
     "execution_count": 65,
     "metadata": {},
     "output_type": "execute_result"
    }
   ],
   "source": [
    "# Tuning min sample leaf\n",
    "# specify number of folds for k-fold CV\n",
    "n_folds = 5\n",
    "\n",
    "# parameters to build the model on\n",
    "parameters = {'min_samples_leaf': range(5, 200, 20)}\n",
    "\n",
    "# instantiate the model\n",
    "dtree = DecisionTreeClassifier(criterion = \"gini\", \n",
    "                               random_state = 100)\n",
    "\n",
    "# fit tree on training data\n",
    "tree = GridSearchCV(dtree, parameters, \n",
    "                    cv=n_folds, \n",
    "                   scoring=\"accuracy\",return_train_score=True)\n",
    "tree.fit(X_lasso, y_train)"
   ]
  },
  {
   "cell_type": "code",
   "execution_count": 66,
   "metadata": {},
   "outputs": [
    {
     "data": {
      "text/html": [
       "<div>\n",
       "<style scoped>\n",
       "    .dataframe tbody tr th:only-of-type {\n",
       "        vertical-align: middle;\n",
       "    }\n",
       "\n",
       "    .dataframe tbody tr th {\n",
       "        vertical-align: top;\n",
       "    }\n",
       "\n",
       "    .dataframe thead th {\n",
       "        text-align: right;\n",
       "    }\n",
       "</style>\n",
       "<table border=\"1\" class=\"dataframe\">\n",
       "  <thead>\n",
       "    <tr style=\"text-align: right;\">\n",
       "      <th></th>\n",
       "      <th>mean_fit_time</th>\n",
       "      <th>std_fit_time</th>\n",
       "      <th>mean_score_time</th>\n",
       "      <th>std_score_time</th>\n",
       "      <th>param_min_samples_leaf</th>\n",
       "      <th>params</th>\n",
       "      <th>split0_test_score</th>\n",
       "      <th>split1_test_score</th>\n",
       "      <th>split2_test_score</th>\n",
       "      <th>split3_test_score</th>\n",
       "      <th>...</th>\n",
       "      <th>mean_test_score</th>\n",
       "      <th>std_test_score</th>\n",
       "      <th>rank_test_score</th>\n",
       "      <th>split0_train_score</th>\n",
       "      <th>split1_train_score</th>\n",
       "      <th>split2_train_score</th>\n",
       "      <th>split3_train_score</th>\n",
       "      <th>split4_train_score</th>\n",
       "      <th>mean_train_score</th>\n",
       "      <th>std_train_score</th>\n",
       "    </tr>\n",
       "  </thead>\n",
       "  <tbody>\n",
       "    <tr>\n",
       "      <th>0</th>\n",
       "      <td>0.674550</td>\n",
       "      <td>0.028326</td>\n",
       "      <td>0.003371</td>\n",
       "      <td>0.006741</td>\n",
       "      <td>5</td>\n",
       "      <td>{'min_samples_leaf': 5}</td>\n",
       "      <td>0.924416</td>\n",
       "      <td>0.918932</td>\n",
       "      <td>0.921774</td>\n",
       "      <td>0.927021</td>\n",
       "      <td>...</td>\n",
       "      <td>0.923022</td>\n",
       "      <td>0.002692</td>\n",
       "      <td>10</td>\n",
       "      <td>0.967150</td>\n",
       "      <td>0.967627</td>\n",
       "      <td>0.967271</td>\n",
       "      <td>0.966198</td>\n",
       "      <td>0.966019</td>\n",
       "      <td>0.966853</td>\n",
       "      <td>0.000630</td>\n",
       "    </tr>\n",
       "    <tr>\n",
       "      <th>1</th>\n",
       "      <td>0.518172</td>\n",
       "      <td>0.023208</td>\n",
       "      <td>0.009427</td>\n",
       "      <td>0.007698</td>\n",
       "      <td>25</td>\n",
       "      <td>{'min_samples_leaf': 25}</td>\n",
       "      <td>0.937053</td>\n",
       "      <td>0.938245</td>\n",
       "      <td>0.932745</td>\n",
       "      <td>0.943954</td>\n",
       "      <td>...</td>\n",
       "      <td>0.937616</td>\n",
       "      <td>0.003659</td>\n",
       "      <td>9</td>\n",
       "      <td>0.947415</td>\n",
       "      <td>0.946939</td>\n",
       "      <td>0.948134</td>\n",
       "      <td>0.945988</td>\n",
       "      <td>0.947299</td>\n",
       "      <td>0.947155</td>\n",
       "      <td>0.000701</td>\n",
       "    </tr>\n",
       "    <tr>\n",
       "      <th>2</th>\n",
       "      <td>0.468165</td>\n",
       "      <td>0.015317</td>\n",
       "      <td>0.012995</td>\n",
       "      <td>0.006521</td>\n",
       "      <td>45</td>\n",
       "      <td>{'min_samples_leaf': 45}</td>\n",
       "      <td>0.940868</td>\n",
       "      <td>0.938960</td>\n",
       "      <td>0.935130</td>\n",
       "      <td>0.942285</td>\n",
       "      <td>...</td>\n",
       "      <td>0.939142</td>\n",
       "      <td>0.002426</td>\n",
       "      <td>8</td>\n",
       "      <td>0.943779</td>\n",
       "      <td>0.943838</td>\n",
       "      <td>0.944557</td>\n",
       "      <td>0.942947</td>\n",
       "      <td>0.944915</td>\n",
       "      <td>0.944007</td>\n",
       "      <td>0.000683</td>\n",
       "    </tr>\n",
       "    <tr>\n",
       "      <th>3</th>\n",
       "      <td>0.443869</td>\n",
       "      <td>0.029317</td>\n",
       "      <td>0.000000</td>\n",
       "      <td>0.000000</td>\n",
       "      <td>65</td>\n",
       "      <td>{'min_samples_leaf': 65}</td>\n",
       "      <td>0.941106</td>\n",
       "      <td>0.940629</td>\n",
       "      <td>0.937038</td>\n",
       "      <td>0.944670</td>\n",
       "      <td>...</td>\n",
       "      <td>0.940764</td>\n",
       "      <td>0.002426</td>\n",
       "      <td>4</td>\n",
       "      <td>0.943481</td>\n",
       "      <td>0.942944</td>\n",
       "      <td>0.944021</td>\n",
       "      <td>0.941994</td>\n",
       "      <td>0.943245</td>\n",
       "      <td>0.943137</td>\n",
       "      <td>0.000672</td>\n",
       "    </tr>\n",
       "    <tr>\n",
       "      <th>4</th>\n",
       "      <td>0.492349</td>\n",
       "      <td>0.045604</td>\n",
       "      <td>0.005579</td>\n",
       "      <td>0.005918</td>\n",
       "      <td>85</td>\n",
       "      <td>{'min_samples_leaf': 85}</td>\n",
       "      <td>0.940153</td>\n",
       "      <td>0.940153</td>\n",
       "      <td>0.936322</td>\n",
       "      <td>0.945385</td>\n",
       "      <td>...</td>\n",
       "      <td>0.940144</td>\n",
       "      <td>0.002971</td>\n",
       "      <td>5</td>\n",
       "      <td>0.942169</td>\n",
       "      <td>0.942229</td>\n",
       "      <td>0.943245</td>\n",
       "      <td>0.941099</td>\n",
       "      <td>0.943245</td>\n",
       "      <td>0.942398</td>\n",
       "      <td>0.000801</td>\n",
       "    </tr>\n",
       "  </tbody>\n",
       "</table>\n",
       "<p>5 rows × 21 columns</p>\n",
       "</div>"
      ],
      "text/plain": [
       "   mean_fit_time  std_fit_time  mean_score_time  std_score_time  \\\n",
       "0       0.674550      0.028326         0.003371        0.006741   \n",
       "1       0.518172      0.023208         0.009427        0.007698   \n",
       "2       0.468165      0.015317         0.012995        0.006521   \n",
       "3       0.443869      0.029317         0.000000        0.000000   \n",
       "4       0.492349      0.045604         0.005579        0.005918   \n",
       "\n",
       "  param_min_samples_leaf                    params  split0_test_score  \\\n",
       "0                      5   {'min_samples_leaf': 5}           0.924416   \n",
       "1                     25  {'min_samples_leaf': 25}           0.937053   \n",
       "2                     45  {'min_samples_leaf': 45}           0.940868   \n",
       "3                     65  {'min_samples_leaf': 65}           0.941106   \n",
       "4                     85  {'min_samples_leaf': 85}           0.940153   \n",
       "\n",
       "   split1_test_score  split2_test_score  split3_test_score  ...  \\\n",
       "0           0.918932           0.921774           0.927021  ...   \n",
       "1           0.938245           0.932745           0.943954  ...   \n",
       "2           0.938960           0.935130           0.942285  ...   \n",
       "3           0.940629           0.937038           0.944670  ...   \n",
       "4           0.940153           0.936322           0.945385  ...   \n",
       "\n",
       "   mean_test_score  std_test_score  rank_test_score  split0_train_score  \\\n",
       "0         0.923022        0.002692               10            0.967150   \n",
       "1         0.937616        0.003659                9            0.947415   \n",
       "2         0.939142        0.002426                8            0.943779   \n",
       "3         0.940764        0.002426                4            0.943481   \n",
       "4         0.940144        0.002971                5            0.942169   \n",
       "\n",
       "   split1_train_score  split2_train_score  split3_train_score  \\\n",
       "0            0.967627            0.967271            0.966198   \n",
       "1            0.946939            0.948134            0.945988   \n",
       "2            0.943838            0.944557            0.942947   \n",
       "3            0.942944            0.944021            0.941994   \n",
       "4            0.942229            0.943245            0.941099   \n",
       "\n",
       "   split4_train_score  mean_train_score  std_train_score  \n",
       "0            0.966019          0.966853         0.000630  \n",
       "1            0.947299          0.947155         0.000701  \n",
       "2            0.944915          0.944007         0.000683  \n",
       "3            0.943245          0.943137         0.000672  \n",
       "4            0.943245          0.942398         0.000801  \n",
       "\n",
       "[5 rows x 21 columns]"
      ]
     },
     "execution_count": 66,
     "metadata": {},
     "output_type": "execute_result"
    }
   ],
   "source": [
    "# scores of GridSearch CV\n",
    "score = tree.cv_results_\n",
    "pd.DataFrame(score).head()"
   ]
  },
  {
   "cell_type": "code",
   "execution_count": 67,
   "metadata": {},
   "outputs": [
    {
     "data": {
      "image/png": "[encoded data removed]",
      "text/plain": [
       "<Figure size 432x288 with 1 Axes>"
      ]
     },
     "metadata": {
      "needs_background": "light"
     },
     "output_type": "display_data"
    }
   ],
   "source": [
    "# plotting accuracies with min_samples_leaf\n",
    "\n",
    "plt.figure()\n",
    "plt.plot(score[\"param_min_samples_leaf\"], \n",
    "         score[\"mean_train_score\"], \n",
    "         label=\"training accuracy\")\n",
    "plt.plot(score[\"param_min_samples_leaf\"], \n",
    "         score[\"mean_test_score\"], \n",
    "         label=\"test accuracy\")\n",
    "plt.xlabel(\"min_samples_leaf\")\n",
    "plt.ylabel(\"Accuracy\")\n",
    "plt.legend()\n",
    "plt.show()"
   ]
  },
  {
   "cell_type": "markdown",
   "metadata": {},
   "source": [
    "min_samples_leaf = 25 seems to be optimal"
   ]
  },
  {
   "cell_type": "code",
   "execution_count": 68,
   "metadata": {},
   "outputs": [
    {
     "data": {
      "text/plain": [
       "GridSearchCV(cv=5, estimator=DecisionTreeClassifier(random_state=100),\n",
       "             param_grid={'min_samples_split': range(5, 200, 20)},\n",
       "             return_train_score=True, scoring='accuracy')"
      ]
     },
     "execution_count": 68,
     "metadata": {},
     "output_type": "execute_result"
    }
   ],
   "source": [
    "# Tuning min_sample_split\n",
    "\n",
    "# specify number of folds for k-fold CV\n",
    "n_folds = 5\n",
    "\n",
    "# parameters to build the model on\n",
    "parameters = {'min_samples_split': range(5, 200, 20)}\n",
    "\n",
    "# instantiate the model\n",
    "dtree = DecisionTreeClassifier(criterion = \"gini\", \n",
    "                               random_state = 100)\n",
    "\n",
    "# fit tree on training data\n",
    "tree = GridSearchCV(dtree, parameters, \n",
    "                    cv=n_folds, \n",
    "                   scoring=\"accuracy\",return_train_score=True)\n",
    "tree.fit(X_lasso, y_train)"
   ]
  },
  {
   "cell_type": "code",
   "execution_count": 69,
   "metadata": {},
   "outputs": [
    {
     "data": {
      "text/html": [
       "<div>\n",
       "<style scoped>\n",
       "    .dataframe tbody tr th:only-of-type {\n",
       "        vertical-align: middle;\n",
       "    }\n",
       "\n",
       "    .dataframe tbody tr th {\n",
       "        vertical-align: top;\n",
       "    }\n",
       "\n",
       "    .dataframe thead th {\n",
       "        text-align: right;\n",
       "    }\n",
       "</style>\n",
       "<table border=\"1\" class=\"dataframe\">\n",
       "  <thead>\n",
       "    <tr style=\"text-align: right;\">\n",
       "      <th></th>\n",
       "      <th>mean_fit_time</th>\n",
       "      <th>std_fit_time</th>\n",
       "      <th>mean_score_time</th>\n",
       "      <th>std_score_time</th>\n",
       "      <th>param_min_samples_split</th>\n",
       "      <th>params</th>\n",
       "      <th>split0_test_score</th>\n",
       "      <th>split1_test_score</th>\n",
       "      <th>split2_test_score</th>\n",
       "      <th>split3_test_score</th>\n",
       "      <th>...</th>\n",
       "      <th>mean_test_score</th>\n",
       "      <th>std_test_score</th>\n",
       "      <th>rank_test_score</th>\n",
       "      <th>split0_train_score</th>\n",
       "      <th>split1_train_score</th>\n",
       "      <th>split2_train_score</th>\n",
       "      <th>split3_train_score</th>\n",
       "      <th>split4_train_score</th>\n",
       "      <th>mean_train_score</th>\n",
       "      <th>std_train_score</th>\n",
       "    </tr>\n",
       "  </thead>\n",
       "  <tbody>\n",
       "    <tr>\n",
       "      <th>0</th>\n",
       "      <td>0.743099</td>\n",
       "      <td>0.033220</td>\n",
       "      <td>0.002843</td>\n",
       "      <td>0.005131</td>\n",
       "      <td>5</td>\n",
       "      <td>{'min_samples_split': 5}</td>\n",
       "      <td>0.913448</td>\n",
       "      <td>0.913686</td>\n",
       "      <td>0.907465</td>\n",
       "      <td>0.912473</td>\n",
       "      <td>...</td>\n",
       "      <td>0.912004</td>\n",
       "      <td>0.002308</td>\n",
       "      <td>10</td>\n",
       "      <td>0.990938</td>\n",
       "      <td>0.991832</td>\n",
       "      <td>0.991296</td>\n",
       "      <td>0.990581</td>\n",
       "      <td>0.990163</td>\n",
       "      <td>0.990962</td>\n",
       "      <td>0.000575</td>\n",
       "    </tr>\n",
       "    <tr>\n",
       "      <th>1</th>\n",
       "      <td>0.736406</td>\n",
       "      <td>0.035225</td>\n",
       "      <td>0.005735</td>\n",
       "      <td>0.007043</td>\n",
       "      <td>25</td>\n",
       "      <td>{'min_samples_split': 25}</td>\n",
       "      <td>0.927754</td>\n",
       "      <td>0.924893</td>\n",
       "      <td>0.922251</td>\n",
       "      <td>0.927975</td>\n",
       "      <td>...</td>\n",
       "      <td>0.927028</td>\n",
       "      <td>0.003354</td>\n",
       "      <td>9</td>\n",
       "      <td>0.966971</td>\n",
       "      <td>0.967388</td>\n",
       "      <td>0.965840</td>\n",
       "      <td>0.965542</td>\n",
       "      <td>0.966138</td>\n",
       "      <td>0.966376</td>\n",
       "      <td>0.000695</td>\n",
       "    </tr>\n",
       "    <tr>\n",
       "      <th>2</th>\n",
       "      <td>0.730591</td>\n",
       "      <td>0.030071</td>\n",
       "      <td>0.005541</td>\n",
       "      <td>0.007023</td>\n",
       "      <td>45</td>\n",
       "      <td>{'min_samples_split': 45}</td>\n",
       "      <td>0.930138</td>\n",
       "      <td>0.927277</td>\n",
       "      <td>0.928214</td>\n",
       "      <td>0.931076</td>\n",
       "      <td>...</td>\n",
       "      <td>0.929508</td>\n",
       "      <td>0.001502</td>\n",
       "      <td>8</td>\n",
       "      <td>0.958982</td>\n",
       "      <td>0.958982</td>\n",
       "      <td>0.958865</td>\n",
       "      <td>0.955765</td>\n",
       "      <td>0.958686</td>\n",
       "      <td>0.958256</td>\n",
       "      <td>0.001250</td>\n",
       "    </tr>\n",
       "    <tr>\n",
       "      <th>3</th>\n",
       "      <td>0.721574</td>\n",
       "      <td>0.032563</td>\n",
       "      <td>0.003009</td>\n",
       "      <td>0.006018</td>\n",
       "      <td>65</td>\n",
       "      <td>{'min_samples_split': 65}</td>\n",
       "      <td>0.934192</td>\n",
       "      <td>0.931807</td>\n",
       "      <td>0.932268</td>\n",
       "      <td>0.932268</td>\n",
       "      <td>...</td>\n",
       "      <td>0.932274</td>\n",
       "      <td>0.001092</td>\n",
       "      <td>7</td>\n",
       "      <td>0.953974</td>\n",
       "      <td>0.954928</td>\n",
       "      <td>0.954394</td>\n",
       "      <td>0.952426</td>\n",
       "      <td>0.954751</td>\n",
       "      <td>0.954095</td>\n",
       "      <td>0.000896</td>\n",
       "    </tr>\n",
       "    <tr>\n",
       "      <th>4</th>\n",
       "      <td>0.763056</td>\n",
       "      <td>0.058219</td>\n",
       "      <td>0.000200</td>\n",
       "      <td>0.000400</td>\n",
       "      <td>85</td>\n",
       "      <td>{'min_samples_split': 85}</td>\n",
       "      <td>0.932046</td>\n",
       "      <td>0.934907</td>\n",
       "      <td>0.931314</td>\n",
       "      <td>0.937515</td>\n",
       "      <td>...</td>\n",
       "      <td>0.933753</td>\n",
       "      <td>0.002233</td>\n",
       "      <td>6</td>\n",
       "      <td>0.951231</td>\n",
       "      <td>0.951291</td>\n",
       "      <td>0.952188</td>\n",
       "      <td>0.949922</td>\n",
       "      <td>0.953082</td>\n",
       "      <td>0.951543</td>\n",
       "      <td>0.001056</td>\n",
       "    </tr>\n",
       "  </tbody>\n",
       "</table>\n",
       "<p>5 rows × 21 columns</p>\n",
       "</div>"
      ],
      "text/plain": [
       "   mean_fit_time  std_fit_time  mean_score_time  std_score_time  \\\n",
       "0       0.743099      0.033220         0.002843        0.005131   \n",
       "1       0.736406      0.035225         0.005735        0.007043   \n",
       "2       0.730591      0.030071         0.005541        0.007023   \n",
       "3       0.721574      0.032563         0.003009        0.006018   \n",
       "4       0.763056      0.058219         0.000200        0.000400   \n",
       "\n",
       "  param_min_samples_split                     params  split0_test_score  \\\n",
       "0                       5   {'min_samples_split': 5}           0.913448   \n",
       "1                      25  {'min_samples_split': 25}           0.927754   \n",
       "2                      45  {'min_samples_split': 45}           0.930138   \n",
       "3                      65  {'min_samples_split': 65}           0.934192   \n",
       "4                      85  {'min_samples_split': 85}           0.932046   \n",
       "\n",
       "   split1_test_score  split2_test_score  split3_test_score  ...  \\\n",
       "0           0.913686           0.907465           0.912473  ...   \n",
       "1           0.924893           0.922251           0.927975  ...   \n",
       "2           0.927277           0.928214           0.931076  ...   \n",
       "3           0.931807           0.932268           0.932268  ...   \n",
       "4           0.934907           0.931314           0.937515  ...   \n",
       "\n",
       "   mean_test_score  std_test_score  rank_test_score  split0_train_score  \\\n",
       "0         0.912004        0.002308               10            0.990938   \n",
       "1         0.927028        0.003354                9            0.966971   \n",
       "2         0.929508        0.001502                8            0.958982   \n",
       "3         0.932274        0.001092                7            0.953974   \n",
       "4         0.933753        0.002233                6            0.951231   \n",
       "\n",
       "   split1_train_score  split2_train_score  split3_train_score  \\\n",
       "0            0.991832            0.991296            0.990581   \n",
       "1            0.967388            0.965840            0.965542   \n",
       "2            0.958982            0.958865            0.955765   \n",
       "3            0.954928            0.954394            0.952426   \n",
       "4            0.951291            0.952188            0.949922   \n",
       "\n",
       "   split4_train_score  mean_train_score  std_train_score  \n",
       "0            0.990163          0.990962         0.000575  \n",
       "1            0.966138          0.966376         0.000695  \n",
       "2            0.958686          0.958256         0.001250  \n",
       "3            0.954751          0.954095         0.000896  \n",
       "4            0.953082          0.951543         0.001056  \n",
       "\n",
       "[5 rows x 21 columns]"
      ]
     },
     "execution_count": 69,
     "metadata": {},
     "output_type": "execute_result"
    }
   ],
   "source": [
    "# Scores of GridSearch CV\n",
    "scores = tree.cv_results_\n",
    "pd.DataFrame(scores).head()"
   ]
  },
  {
   "cell_type": "code",
   "execution_count": 70,
   "metadata": {},
   "outputs": [
    {
     "data": {
      "image/png": "[encoded data removed]",
      "text/plain": [
       "<Figure size 432x288 with 1 Axes>"
      ]
     },
     "metadata": {
      "needs_background": "light"
     },
     "output_type": "display_data"
    }
   ],
   "source": [
    "# plotting accuracies with min_samples_leaf\n",
    "\n",
    "plt.figure()\n",
    "plt.plot(scores[\"param_min_samples_split\"], \n",
    "         scores[\"mean_train_score\"], \n",
    "         label=\"training accuracy\")\n",
    "plt.plot(scores[\"param_min_samples_split\"], \n",
    "         scores[\"mean_test_score\"], \n",
    "         label=\"test accuracy\")\n",
    "plt.xlabel(\"min_samples_split\")\n",
    "plt.ylabel(\"Accuracy\")\n",
    "plt.legend()\n",
    "plt.show()"
   ]
  },
  {
   "cell_type": "markdown",
   "metadata": {},
   "source": [
    "min_samples_split = 100 seems to be optimal"
   ]
  },
  {
   "cell_type": "code",
   "execution_count": 71,
   "metadata": {},
   "outputs": [
    {
     "name": "stdout",
     "output_type": "stream",
     "text": [
      "Fitting 5 folds for each of 24 candidates, totalling 120 fits\n"
     ]
    },
    {
     "name": "stderr",
     "output_type": "stream",
     "text": [
      "[Parallel(n_jobs=1)]: Using backend SequentialBackend with 1 concurrent workers.\n",
      "[Parallel(n_jobs=1)]: Done 120 out of 120 | elapsed:   41.8s finished\n"
     ]
    },
    {
     "data": {
      "text/plain": [
       "GridSearchCV(cv=5, estimator=DecisionTreeClassifier(),\n",
       "             param_grid={'criterion': ['entropy', 'gini'],\n",
       "                         'max_depth': range(5, 15, 5),\n",
       "                         'min_samples_leaf': range(25, 175, 50),\n",
       "                         'min_samples_split': range(50, 150, 50)},\n",
       "             verbose=1)"
      ]
     },
     "execution_count": 71,
     "metadata": {},
     "output_type": "execute_result"
    }
   ],
   "source": [
    "# Creating parameter grid \n",
    "param_grid = {\n",
    "    'max_depth': range(5, 15, 5),\n",
    "    'min_samples_leaf': range(25, 175, 50),\n",
    "    'min_samples_split': range(50, 150, 50),\n",
    "    'criterion': [\"entropy\", \"gini\"]\n",
    "}\n",
    "\n",
    "n_folds = 5\n",
    "\n",
    "# Instantiate the grid search model\n",
    "dtree = DecisionTreeClassifier()\n",
    "grid_search = GridSearchCV(estimator = dtree, param_grid = param_grid, \n",
    "                          cv = n_folds, verbose = 1)\n",
    "\n",
    "# Fit the grid search to the data\n",
    "grid_search.fit(X_lasso, y_train)"
   ]
  },
  {
   "cell_type": "code",
   "execution_count": 72,
   "metadata": {},
   "outputs": [
    {
     "name": "stdout",
     "output_type": "stream",
     "text": [
      "Best Accuracy 0.9414795260761715\n"
     ]
    }
   ],
   "source": [
    "# cv results\n",
    "cv_results = pd.DataFrame(grid_search.cv_results_)\n",
    "cv_results\n",
    "# printing the optimal accuracy score and hyperparameters\n",
    "print(\"Best Accuracy\", grid_search.best_score_)"
   ]
  },
  {
   "cell_type": "code",
   "execution_count": 73,
   "metadata": {},
   "outputs": [
    {
     "name": "stdout",
     "output_type": "stream",
     "text": [
      "DecisionTreeClassifier(criterion='entropy', max_depth=5, min_samples_leaf=25,\n",
      "                       min_samples_split=100)\n"
     ]
    }
   ],
   "source": [
    "print(grid_search.best_estimator_)"
   ]
  },
  {
   "cell_type": "code",
   "execution_count": 74,
   "metadata": {},
   "outputs": [
    {
     "data": {
      "text/plain": [
       "DecisionTreeClassifier(max_depth=5, min_samples_leaf=25, min_samples_split=100,\n",
       "                       random_state=100)"
      ]
     },
     "execution_count": 74,
     "metadata": {},
     "output_type": "execute_result"
    }
   ],
   "source": [
    "# model with optimal hyperparameters\n",
    "dt_gini = DecisionTreeClassifier(criterion = \"gini\", \n",
    "                                  random_state = 100,\n",
    "                                  max_depth = 5, \n",
    "                                  min_samples_leaf = 25,\n",
    "                                  min_samples_split=100)\n",
    "dt_gini.fit(X_lasso, y_train)"
   ]
  },
  {
   "cell_type": "code",
   "execution_count": 75,
   "metadata": {},
   "outputs": [
    {
     "name": "stdout",
     "output_type": "stream",
     "text": [
      "Accuracy Score for Decision Tree Final Model =  0.9442466058312932\n"
     ]
    }
   ],
   "source": [
    "# accuracy score\n",
    "print ('Accuracy Score for Decision Tree Final Model = ',dt_gini.score(X_test,y_test))"
   ]
  },
  {
   "cell_type": "markdown",
   "metadata": {},
   "source": [
    "### Model accuracy is 94%"
   ]
  },
  {
   "cell_type": "markdown",
   "metadata": {},
   "source": [
    "## Random Forests"
   ]
  },
  {
   "cell_type": "code",
   "execution_count": 76,
   "metadata": {},
   "outputs": [
    {
     "name": "stdout",
     "output_type": "stream",
     "text": [
      "Randon Forest Accuracy with Default Hyperparameter 0.9455820164700646\n"
     ]
    }
   ],
   "source": [
    "# random forests with default hyperparameters\n",
    "\n",
    "rf = RandomForestClassifier()\n",
    "rf.fit(X_lasso, y_train)\n",
    "\n",
    "# Make predictions\n",
    "prediction_test = rf.predict(X_test)\n",
    "print ('Randon Forest Accuracy with Default Hyperparameter',metrics.accuracy_score(y_test, prediction_test))"
   ]
  },
  {
   "cell_type": "code",
   "execution_count": 77,
   "metadata": {},
   "outputs": [
    {
     "name": "stdout",
     "output_type": "stream",
     "text": [
      "              precision    recall  f1-score   support\n",
      "\n",
      "           0       0.96      0.98      0.97      8256\n",
      "           1       0.74      0.50      0.60       730\n",
      "\n",
      "    accuracy                           0.95      8986\n",
      "   macro avg       0.85      0.74      0.79      8986\n",
      "weighted avg       0.94      0.95      0.94      8986\n",
      "\n"
     ]
    }
   ],
   "source": [
    "print(classification_report(y_test,prediction_test))"
   ]
  },
  {
   "cell_type": "code",
   "execution_count": 78,
   "metadata": {},
   "outputs": [
    {
     "name": "stdout",
     "output_type": "stream",
     "text": [
      "[[8130  126]\n",
      " [ 363  367]]\n"
     ]
    }
   ],
   "source": [
    "# Printing confusion matrix\n",
    "print(confusion_matrix(y_test, prediction_test))"
   ]
  },
  {
   "cell_type": "code",
   "execution_count": 79,
   "metadata": {},
   "outputs": [
    {
     "data": {
      "text/plain": [
       "GridSearchCV(cv=5, estimator=RandomForestClassifier(),\n",
       "             param_grid={'max_depth': range(2, 20, 5)}, return_train_score=True,\n",
       "             scoring='accuracy')"
      ]
     },
     "execution_count": 79,
     "metadata": {},
     "output_type": "execute_result"
    }
   ],
   "source": [
    "# Hyperparameter tuning\n",
    "\n",
    "# specify number of folds for k-fold CV\n",
    "n_folds = 5\n",
    "\n",
    "# parameters to build the model on\n",
    "parameters = {'max_depth': range(2, 20, 5)}\n",
    "\n",
    "# instantiate the model\n",
    "rf = RandomForestClassifier()\n",
    "\n",
    "\n",
    "# fit tree on training data\n",
    "rf = GridSearchCV(rf, parameters, \n",
    "                    cv=n_folds, \n",
    "                   scoring=\"accuracy\",return_train_score=True)\n",
    "rf.fit(X_lasso, y_train)"
   ]
  },
  {
   "cell_type": "code",
   "execution_count": 80,
   "metadata": {},
   "outputs": [
    {
     "data": {
      "text/html": [
       "<div>\n",
       "<style scoped>\n",
       "    .dataframe tbody tr th:only-of-type {\n",
       "        vertical-align: middle;\n",
       "    }\n",
       "\n",
       "    .dataframe tbody tr th {\n",
       "        vertical-align: top;\n",
       "    }\n",
       "\n",
       "    .dataframe thead th {\n",
       "        text-align: right;\n",
       "    }\n",
       "</style>\n",
       "<table border=\"1\" class=\"dataframe\">\n",
       "  <thead>\n",
       "    <tr style=\"text-align: right;\">\n",
       "      <th></th>\n",
       "      <th>mean_fit_time</th>\n",
       "      <th>std_fit_time</th>\n",
       "      <th>mean_score_time</th>\n",
       "      <th>std_score_time</th>\n",
       "      <th>param_max_depth</th>\n",
       "      <th>params</th>\n",
       "      <th>split0_test_score</th>\n",
       "      <th>split1_test_score</th>\n",
       "      <th>split2_test_score</th>\n",
       "      <th>split3_test_score</th>\n",
       "      <th>...</th>\n",
       "      <th>mean_test_score</th>\n",
       "      <th>std_test_score</th>\n",
       "      <th>rank_test_score</th>\n",
       "      <th>split0_train_score</th>\n",
       "      <th>split1_train_score</th>\n",
       "      <th>split2_train_score</th>\n",
       "      <th>split3_train_score</th>\n",
       "      <th>split4_train_score</th>\n",
       "      <th>mean_train_score</th>\n",
       "      <th>std_train_score</th>\n",
       "    </tr>\n",
       "  </thead>\n",
       "  <tbody>\n",
       "    <tr>\n",
       "      <th>0</th>\n",
       "      <td>1.818430</td>\n",
       "      <td>0.020104</td>\n",
       "      <td>0.062286</td>\n",
       "      <td>0.003793</td>\n",
       "      <td>2</td>\n",
       "      <td>{'max_depth': 2}</td>\n",
       "      <td>0.937768</td>\n",
       "      <td>0.938960</td>\n",
       "      <td>0.934415</td>\n",
       "      <td>0.941092</td>\n",
       "      <td>...</td>\n",
       "      <td>0.938332</td>\n",
       "      <td>0.002230</td>\n",
       "      <td>4</td>\n",
       "      <td>0.939009</td>\n",
       "      <td>0.938830</td>\n",
       "      <td>0.940026</td>\n",
       "      <td>0.938059</td>\n",
       "      <td>0.938297</td>\n",
       "      <td>0.938844</td>\n",
       "      <td>0.000684</td>\n",
       "    </tr>\n",
       "    <tr>\n",
       "      <th>1</th>\n",
       "      <td>4.517098</td>\n",
       "      <td>0.037672</td>\n",
       "      <td>0.094050</td>\n",
       "      <td>0.003330</td>\n",
       "      <td>7</td>\n",
       "      <td>{'max_depth': 7}</td>\n",
       "      <td>0.942299</td>\n",
       "      <td>0.941345</td>\n",
       "      <td>0.937515</td>\n",
       "      <td>0.946339</td>\n",
       "      <td>...</td>\n",
       "      <td>0.942147</td>\n",
       "      <td>0.002860</td>\n",
       "      <td>2</td>\n",
       "      <td>0.947356</td>\n",
       "      <td>0.947833</td>\n",
       "      <td>0.948492</td>\n",
       "      <td>0.946942</td>\n",
       "      <td>0.947836</td>\n",
       "      <td>0.947692</td>\n",
       "      <td>0.000521</td>\n",
       "    </tr>\n",
       "    <tr>\n",
       "      <th>2</th>\n",
       "      <td>6.788765</td>\n",
       "      <td>0.143959</td>\n",
       "      <td>0.130442</td>\n",
       "      <td>0.005920</td>\n",
       "      <td>12</td>\n",
       "      <td>{'max_depth': 12}</td>\n",
       "      <td>0.943968</td>\n",
       "      <td>0.943491</td>\n",
       "      <td>0.937992</td>\n",
       "      <td>0.944908</td>\n",
       "      <td>...</td>\n",
       "      <td>0.942242</td>\n",
       "      <td>0.002515</td>\n",
       "      <td>1</td>\n",
       "      <td>0.970906</td>\n",
       "      <td>0.970429</td>\n",
       "      <td>0.971742</td>\n",
       "      <td>0.970430</td>\n",
       "      <td>0.971682</td>\n",
       "      <td>0.971038</td>\n",
       "      <td>0.000578</td>\n",
       "    </tr>\n",
       "    <tr>\n",
       "      <th>3</th>\n",
       "      <td>8.626876</td>\n",
       "      <td>0.502887</td>\n",
       "      <td>0.171200</td>\n",
       "      <td>0.022276</td>\n",
       "      <td>17</td>\n",
       "      <td>{'max_depth': 17}</td>\n",
       "      <td>0.940629</td>\n",
       "      <td>0.942060</td>\n",
       "      <td>0.938230</td>\n",
       "      <td>0.946101</td>\n",
       "      <td>...</td>\n",
       "      <td>0.941336</td>\n",
       "      <td>0.002690</td>\n",
       "      <td>3</td>\n",
       "      <td>0.992011</td>\n",
       "      <td>0.992786</td>\n",
       "      <td>0.993800</td>\n",
       "      <td>0.992786</td>\n",
       "      <td>0.992011</td>\n",
       "      <td>0.992679</td>\n",
       "      <td>0.000659</td>\n",
       "    </tr>\n",
       "  </tbody>\n",
       "</table>\n",
       "<p>4 rows × 21 columns</p>\n",
       "</div>"
      ],
      "text/plain": [
       "   mean_fit_time  std_fit_time  mean_score_time  std_score_time  \\\n",
       "0       1.818430      0.020104         0.062286        0.003793   \n",
       "1       4.517098      0.037672         0.094050        0.003330   \n",
       "2       6.788765      0.143959         0.130442        0.005920   \n",
       "3       8.626876      0.502887         0.171200        0.022276   \n",
       "\n",
       "  param_max_depth             params  split0_test_score  split1_test_score  \\\n",
       "0               2   {'max_depth': 2}           0.937768           0.938960   \n",
       "1               7   {'max_depth': 7}           0.942299           0.941345   \n",
       "2              12  {'max_depth': 12}           0.943968           0.943491   \n",
       "3              17  {'max_depth': 17}           0.940629           0.942060   \n",
       "\n",
       "   split2_test_score  split3_test_score  ...  mean_test_score  std_test_score  \\\n",
       "0           0.934415           0.941092  ...         0.938332        0.002230   \n",
       "1           0.937515           0.946339  ...         0.942147        0.002860   \n",
       "2           0.937992           0.944908  ...         0.942242        0.002515   \n",
       "3           0.938230           0.946101  ...         0.941336        0.002690   \n",
       "\n",
       "   rank_test_score  split0_train_score  split1_train_score  \\\n",
       "0                4            0.939009            0.938830   \n",
       "1                2            0.947356            0.947833   \n",
       "2                1            0.970906            0.970429   \n",
       "3                3            0.992011            0.992786   \n",
       "\n",
       "   split2_train_score  split3_train_score  split4_train_score  \\\n",
       "0            0.940026            0.938059            0.938297   \n",
       "1            0.948492            0.946942            0.947836   \n",
       "2            0.971742            0.970430            0.971682   \n",
       "3            0.993800            0.992786            0.992011   \n",
       "\n",
       "   mean_train_score  std_train_score  \n",
       "0          0.938844         0.000684  \n",
       "1          0.947692         0.000521  \n",
       "2          0.971038         0.000578  \n",
       "3          0.992679         0.000659  \n",
       "\n",
       "[4 rows x 21 columns]"
      ]
     },
     "execution_count": 80,
     "metadata": {},
     "output_type": "execute_result"
    }
   ],
   "source": [
    "# scores of GridSearch CV\n",
    "scores = rf.cv_results_\n",
    "pd.DataFrame(scores).head()"
   ]
  },
  {
   "cell_type": "code",
   "execution_count": 81,
   "metadata": {},
   "outputs": [
    {
     "data": {
      "image/png": "[encoded data removed]",
      "text/plain": [
       "<Figure size 432x288 with 1 Axes>"
      ]
     },
     "metadata": {
      "needs_background": "light"
     },
     "output_type": "display_data"
    }
   ],
   "source": [
    "# plotting accuracies with max_depth\n",
    "plt.figure()\n",
    "plt.plot(scores[\"param_max_depth\"], \n",
    "         scores[\"mean_train_score\"], \n",
    "         label=\"training accuracy\")\n",
    "plt.plot(scores[\"param_max_depth\"], \n",
    "         scores[\"mean_test_score\"], \n",
    "         label=\"test accuracy\")\n",
    "plt.xlabel(\"max_depth\")\n",
    "plt.ylabel(\"Accuracy\")\n",
    "plt.legend()\n",
    "plt.show()"
   ]
  },
  {
   "cell_type": "code",
   "execution_count": 82,
   "metadata": {},
   "outputs": [
    {
     "data": {
      "text/plain": [
       "GridSearchCV(cv=5, estimator=RandomForestClassifier(),\n",
       "             param_grid={'min_samples_leaf': range(50, 400, 10)},\n",
       "             return_train_score=True, scoring='accuracy')"
      ]
     },
     "execution_count": 82,
     "metadata": {},
     "output_type": "execute_result"
    }
   ],
   "source": [
    "# tuning min_sample_leaf\n",
    "\n",
    "# specify number of folds for k-fold CV\n",
    "n_folds = 5\n",
    "\n",
    "# parameters to build the model on\n",
    "parameters = {'min_samples_leaf': range(50, 400, 10)}\n",
    "\n",
    "# instantiate the model\n",
    "rf = RandomForestClassifier()\n",
    "\n",
    "\n",
    "# fit tree on training data\n",
    "rf = GridSearchCV(rf, parameters, \n",
    "                    cv=n_folds, \n",
    "                   scoring=\"accuracy\",return_train_score=True)\n",
    "rf.fit(X_lasso, y_train)"
   ]
  },
  {
   "cell_type": "code",
   "execution_count": 83,
   "metadata": {},
   "outputs": [
    {
     "data": {
      "image/png": "[encoded data removed]",
      "text/plain": [
       "<Figure size 432x288 with 1 Axes>"
      ]
     },
     "metadata": {
      "needs_background": "light"
     },
     "output_type": "display_data"
    }
   ],
   "source": [
    "# scores of GridSearch CV\n",
    "scores = rf.cv_results_\n",
    "\n",
    "# plotting accuracies with min_samples_leaf\n",
    "plt.figure()\n",
    "plt.plot(scores[\"param_min_samples_leaf\"], \n",
    "         scores[\"mean_train_score\"], \n",
    "         label=\"training accuracy\")\n",
    "plt.plot(scores[\"param_min_samples_leaf\"], \n",
    "         scores[\"mean_test_score\"], \n",
    "         label=\"test accuracy\")\n",
    "plt.xlabel(\"min_samples_leaf\")\n",
    "plt.ylabel(\"Accuracy\")\n",
    "plt.legend()\n",
    "plt.show()"
   ]
  },
  {
   "cell_type": "code",
   "execution_count": 84,
   "metadata": {},
   "outputs": [
    {
     "data": {
      "image/png": "[encoded data removed]",
      "text/plain": [
       "<Figure size 432x288 with 1 Axes>"
      ]
     },
     "metadata": {
      "needs_background": "light"
     },
     "output_type": "display_data"
    }
   ],
   "source": [
    "# tuning min_sample_split\n",
    "\n",
    "n_folds = 5\n",
    "parameters = {'min_samples_split': range(100, 500, 25)}\n",
    "rf = RandomForestClassifier()\n",
    "\n",
    "rf = GridSearchCV(rf, parameters, \n",
    "                    cv=n_folds, \n",
    "                   scoring=\"accuracy\",return_train_score=True)\n",
    "rf.fit(X_lasso, y_train)\n",
    "\n",
    "# scores of GridSearch CV\n",
    "scores = rf.cv_results_\n",
    "\n",
    "# plotting accuracies with min_samples_split\n",
    "plt.figure()\n",
    "plt.plot(scores[\"param_min_samples_split\"], \n",
    "         scores[\"mean_train_score\"], \n",
    "         label=\"training accuracy\")\n",
    "plt.plot(scores[\"param_min_samples_split\"], \n",
    "         scores[\"mean_test_score\"], \n",
    "         label=\"test accuracy\")\n",
    "plt.xlabel(\"min_samples_split\")\n",
    "plt.ylabel(\"Accuracy\")\n",
    "plt.legend()\n",
    "plt.show()"
   ]
  },
  {
   "cell_type": "code",
   "execution_count": 85,
   "metadata": {},
   "outputs": [],
   "source": [
    "# Grid search to find optimal hyperparameters\n",
    "\n",
    "# Create the parameter grid based on the results of random search \n",
    "param_grid = {\n",
    "    'max_depth': [4,8,10],\n",
    "    'min_samples_leaf': range(100, 300, 100),\n",
    "    'min_samples_split': range(200, 500, 100),\n",
    "    'n_estimators': [500,700], \n",
    "    'max_features': [10,20,25]\n",
    "}\n",
    "# Creating a based model\n",
    "rf = RandomForestClassifier()\n",
    "# Instantiate the grid search model\n",
    "grid_search = GridSearchCV(estimator = rf, param_grid = param_grid, \n",
    "                          cv = 3, n_jobs = -1,verbose = 1)"
   ]
  },
  {
   "cell_type": "code",
   "execution_count": 86,
   "metadata": {},
   "outputs": [],
   "source": [
    "X_train, X_test, y_train, y_test = train_test_split(X, y, test_size=0.3, random_state=100)\n",
    "\n",
    "model_rf = RandomForestClassifier(bootstrap=True,\n",
    "                                  max_depth=10,\n",
    "                                  min_samples_leaf=100, \n",
    "                                  min_samples_split=200,\n",
    "                                  n_estimators=1000 ,\n",
    "                                  oob_score = True, n_jobs = -1,\n",
    "                                  random_state =50,\n",
    "                                  max_features = 15,\n",
    "                                  max_leaf_nodes = 30)\n",
    "model_rf.fit(X_train, y_train)\n",
    "\n",
    "# Make predictions\n",
    "prediction_test = model_rf.predict(X_test)"
   ]
  },
  {
   "cell_type": "code",
   "execution_count": 87,
   "metadata": {},
   "outputs": [
    {
     "name": "stdout",
     "output_type": "stream",
     "text": [
      "              precision    recall  f1-score   support\n",
      "\n",
      "           0       0.95      0.99      0.97      8305\n",
      "           1       0.78      0.40      0.53       681\n",
      "\n",
      "    accuracy                           0.95      8986\n",
      "   macro avg       0.87      0.69      0.75      8986\n",
      "weighted avg       0.94      0.95      0.94      8986\n",
      "\n",
      "[[8230   75]\n",
      " [ 411  270]]\n"
     ]
    }
   ],
   "source": [
    "from sklearn.metrics import confusion_matrix\n",
    "print(classification_report(y_test,prediction_test))\n",
    "print(confusion_matrix(y_test,prediction_test))"
   ]
  },
  {
   "cell_type": "code",
   "execution_count": 88,
   "metadata": {},
   "outputs": [
    {
     "name": "stdout",
     "output_type": "stream",
     "text": [
      "Accuracy Score for Random Forest Final Model =  0.9459158691297574\n"
     ]
    }
   ],
   "source": [
    "# Accuracy score\n",
    "print ('Accuracy Score for Random Forest Final Model = ',accuracy_score(y_test, prediction_test))"
   ]
  },
  {
   "cell_type": "markdown",
   "metadata": {},
   "source": [
    "### Model accuracy ~ 94%"
   ]
  },
  {
   "cell_type": "code",
   "execution_count": 89,
   "metadata": {},
   "outputs": [
    {
     "data": {
      "text/plain": [
       "<matplotlib.axes._subplots.AxesSubplot at 0x134d91e4b20>"
      ]
     },
     "execution_count": 89,
     "metadata": {},
     "output_type": "execute_result"
    },
    {
     "data": {
      "image/png": "[encoded data removed]",
      "text/plain": [
       "<Figure size 432x288 with 1 Axes>"
      ]
     },
     "metadata": {
      "needs_background": "light"
     },
     "output_type": "display_data"
    }
   ],
   "source": [
    "X = df\n",
    "# Scaling all the variables to a range of 0 to 1\n",
    "features = X.columns.values\n",
    "X = pd.DataFrame(scaler.transform(X))\n",
    "X.columns = features\n",
    "\n",
    "importances = model_rf.feature_importances_\n",
    "weights = pd.Series(importances,\n",
    "                 index=X.columns.values)\n",
    "weights.sort_values()[-10:].plot(kind = 'barh')"
   ]
  },
  {
   "cell_type": "markdown",
   "metadata": {},
   "source": [
    "## Summary Result:\n",
    "\n",
    "* After modeling Logistic Regression with PCA we achieved around 92% accuracy in the predictions. \n",
    "\n",
    "* After analysing and evaluating we found 8 month's can be the base of Churn Analysis\n",
    "\n",
    "* Decision Tree/Random forests are the best methods to found significant features, however other models are also showing similar results.\n",
    "\n",
    "* Local Calls, Incoming calls and minutes of usage in the action phase needs to be monitored to avoid customer churn\n",
    "\n",
    "* Average revenue per customer and Max Recharge Amount are also potential Churn Indicators\n",
    "\n",
    "* Outgoing calls and All kind of calls outside the operator T network are good indicators of churn\n",
    "\n"
   ]
  }
 ],
 "metadata": {
  "kernelspec": {
   "display_name": "Python 3",
   "language": "python",
   "name": "python3"
  },
  "language_info": {
   "codemirror_mode": {
    "name": "ipython",
    "version": 3
   },
   "file_extension": ".py",
   "mimetype": "text/x-python",
   "name": "python",
   "nbconvert_exporter": "python",
   "pygments_lexer": "ipython3",
   "version": "3.8.3"
  }
 },
 "nbformat": 4,
 "nbformat_minor": 2
}
